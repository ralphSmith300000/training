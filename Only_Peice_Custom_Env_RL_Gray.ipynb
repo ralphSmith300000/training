{
  "cells": [
    {
      "cell_type": "markdown",
      "metadata": {
        "id": "view-in-github",
        "colab_type": "text"
      },
      "source": [
        "<a href=\"https://colab.research.google.com/github/ralphSmith300000/training/blob/main/Only_Peice_Custom_Env_RL_Gray.ipynb\" target=\"_parent\"><img src=\"https://colab.research.google.com/assets/colab-badge.svg\" alt=\"Open In Colab\"/></a>"
      ]
    },
    {
      "cell_type": "markdown",
      "metadata": {
        "id": "T5LNRlxa3Jg1"
      },
      "source": [
        "# 0. Install Dependencies"
      ]
    },
    {
      "cell_type": "code",
      "execution_count": null,
      "metadata": {
        "id": "ZhzVewmZWmP_"
      },
      "outputs": [],
      "source": [
        "!pip3 install virtualenv"
      ]
    },
    {
      "cell_type": "code",
      "execution_count": null,
      "metadata": {
        "id": "GJ9TP1mBW0s2"
      },
      "outputs": [],
      "source": [
        "!virtualenv theanoEnv"
      ]
    },
    {
      "cell_type": "code",
      "execution_count": null,
      "metadata": {
        "id": "Dl1O2bDTW8zb"
      },
      "outputs": [],
      "source": [
        "!source /content/theanoEnv/bin/activate;"
      ]
    },
    {
      "cell_type": "code",
      "execution_count": null,
      "metadata": {
        "cellView": "code",
        "colab": {
          "base_uri": "https://localhost:8080/",
          "height": 1000
        },
        "collapsed": true,
        "id": "59j4YjY63Jg5",
        "outputId": "e89ded52-4457-43cf-b072-744c2b5e616a"
      },
      "outputs": [
        {
          "name": "stdout",
          "output_type": "stream",
          "text": [
            "Collecting tensorflow-gpu\n",
            "  Downloading tensorflow_gpu-2.9.0-cp37-cp37m-manylinux_2_17_x86_64.manylinux2014_x86_64.whl (511.7 MB)\n",
            "\u001b[K     |████████████████████████████████| 511.7 MB 4.4 kB/s \n",
            "\u001b[?25hRequirement already satisfied: wrapt>=1.11.0 in /usr/local/lib/python3.7/dist-packages (from tensorflow-gpu) (1.14.1)\n",
            "Collecting keras<2.10.0,>=2.9.0rc0\n",
            "  Downloading keras-2.9.0-py2.py3-none-any.whl (1.6 MB)\n",
            "\u001b[K     |████████████████████████████████| 1.6 MB 50.5 MB/s \n",
            "\u001b[?25hCollecting flatbuffers<2,>=1.12\n",
            "  Downloading flatbuffers-1.12-py2.py3-none-any.whl (15 kB)\n",
            "Requirement already satisfied: absl-py>=1.0.0 in /usr/local/lib/python3.7/dist-packages (from tensorflow-gpu) (1.0.0)\n",
            "Requirement already satisfied: h5py>=2.9.0 in /usr/local/lib/python3.7/dist-packages (from tensorflow-gpu) (3.1.0)\n",
            "Requirement already satisfied: libclang>=13.0.0 in /usr/local/lib/python3.7/dist-packages (from tensorflow-gpu) (14.0.1)\n",
            "Requirement already satisfied: tensorflow-io-gcs-filesystem>=0.23.1 in /usr/local/lib/python3.7/dist-packages (from tensorflow-gpu) (0.25.0)\n",
            "Requirement already satisfied: protobuf>=3.9.2 in /usr/local/lib/python3.7/dist-packages (from tensorflow-gpu) (3.17.3)\n",
            "Collecting tensorflow-estimator<2.10.0,>=2.9.0rc0\n",
            "  Downloading tensorflow_estimator-2.9.0-py2.py3-none-any.whl (438 kB)\n",
            "\u001b[K     |████████████████████████████████| 438 kB 60.2 MB/s \n",
            "\u001b[?25hRequirement already satisfied: opt-einsum>=2.3.2 in /usr/local/lib/python3.7/dist-packages (from tensorflow-gpu) (3.3.0)\n",
            "Requirement already satisfied: numpy>=1.20 in /usr/local/lib/python3.7/dist-packages (from tensorflow-gpu) (1.21.6)\n",
            "Requirement already satisfied: astunparse>=1.6.0 in /usr/local/lib/python3.7/dist-packages (from tensorflow-gpu) (1.6.3)\n",
            "Collecting gast<=0.4.0,>=0.2.1\n",
            "  Downloading gast-0.4.0-py3-none-any.whl (9.8 kB)\n",
            "Requirement already satisfied: setuptools in /usr/local/lib/python3.7/dist-packages (from tensorflow-gpu) (57.4.0)\n",
            "Requirement already satisfied: six>=1.12.0 in /usr/local/lib/python3.7/dist-packages (from tensorflow-gpu) (1.15.0)\n",
            "Requirement already satisfied: google-pasta>=0.1.1 in /usr/local/lib/python3.7/dist-packages (from tensorflow-gpu) (0.2.0)\n",
            "Collecting tensorboard<2.10,>=2.9\n",
            "  Downloading tensorboard-2.9.0-py3-none-any.whl (5.8 MB)\n",
            "\u001b[K     |████████████████████████████████| 5.8 MB 38.3 MB/s \n",
            "\u001b[?25hRequirement already satisfied: typing-extensions>=3.6.6 in /usr/local/lib/python3.7/dist-packages (from tensorflow-gpu) (4.2.0)\n",
            "Requirement already satisfied: keras-preprocessing>=1.1.1 in /usr/local/lib/python3.7/dist-packages (from tensorflow-gpu) (1.1.2)\n",
            "Requirement already satisfied: grpcio<2.0,>=1.24.3 in /usr/local/lib/python3.7/dist-packages (from tensorflow-gpu) (1.46.1)\n",
            "Requirement already satisfied: termcolor>=1.1.0 in /usr/local/lib/python3.7/dist-packages (from tensorflow-gpu) (1.1.0)\n",
            "Requirement already satisfied: packaging in /usr/local/lib/python3.7/dist-packages (from tensorflow-gpu) (21.3)\n",
            "Requirement already satisfied: wheel<1.0,>=0.23.0 in /usr/local/lib/python3.7/dist-packages (from astunparse>=1.6.0->tensorflow-gpu) (0.37.1)\n",
            "Requirement already satisfied: cached-property in /usr/local/lib/python3.7/dist-packages (from h5py>=2.9.0->tensorflow-gpu) (1.5.2)\n",
            "Requirement already satisfied: requests<3,>=2.21.0 in /usr/local/lib/python3.7/dist-packages (from tensorboard<2.10,>=2.9->tensorflow-gpu) (2.23.0)\n",
            "Requirement already satisfied: google-auth<3,>=1.6.3 in /usr/local/lib/python3.7/dist-packages (from tensorboard<2.10,>=2.9->tensorflow-gpu) (1.35.0)\n",
            "Requirement already satisfied: google-auth-oauthlib<0.5,>=0.4.1 in /usr/local/lib/python3.7/dist-packages (from tensorboard<2.10,>=2.9->tensorflow-gpu) (0.4.6)\n",
            "Requirement already satisfied: tensorboard-data-server<0.7.0,>=0.6.0 in /usr/local/lib/python3.7/dist-packages (from tensorboard<2.10,>=2.9->tensorflow-gpu) (0.6.1)\n",
            "Requirement already satisfied: markdown>=2.6.8 in /usr/local/lib/python3.7/dist-packages (from tensorboard<2.10,>=2.9->tensorflow-gpu) (3.3.7)\n",
            "Requirement already satisfied: werkzeug>=1.0.1 in /usr/local/lib/python3.7/dist-packages (from tensorboard<2.10,>=2.9->tensorflow-gpu) (1.0.1)\n",
            "Requirement already satisfied: tensorboard-plugin-wit>=1.6.0 in /usr/local/lib/python3.7/dist-packages (from tensorboard<2.10,>=2.9->tensorflow-gpu) (1.8.1)\n",
            "Requirement already satisfied: pyasn1-modules>=0.2.1 in /usr/local/lib/python3.7/dist-packages (from google-auth<3,>=1.6.3->tensorboard<2.10,>=2.9->tensorflow-gpu) (0.2.8)\n",
            "Requirement already satisfied: rsa<5,>=3.1.4 in /usr/local/lib/python3.7/dist-packages (from google-auth<3,>=1.6.3->tensorboard<2.10,>=2.9->tensorflow-gpu) (4.8)\n",
            "Requirement already satisfied: cachetools<5.0,>=2.0.0 in /usr/local/lib/python3.7/dist-packages (from google-auth<3,>=1.6.3->tensorboard<2.10,>=2.9->tensorflow-gpu) (4.2.4)\n",
            "Requirement already satisfied: requests-oauthlib>=0.7.0 in /usr/local/lib/python3.7/dist-packages (from google-auth-oauthlib<0.5,>=0.4.1->tensorboard<2.10,>=2.9->tensorflow-gpu) (1.3.1)\n",
            "Requirement already satisfied: importlib-metadata>=4.4 in /usr/local/lib/python3.7/dist-packages (from markdown>=2.6.8->tensorboard<2.10,>=2.9->tensorflow-gpu) (4.11.3)\n",
            "Requirement already satisfied: zipp>=0.5 in /usr/local/lib/python3.7/dist-packages (from importlib-metadata>=4.4->markdown>=2.6.8->tensorboard<2.10,>=2.9->tensorflow-gpu) (3.8.0)\n",
            "Requirement already satisfied: pyasn1<0.5.0,>=0.4.6 in /usr/local/lib/python3.7/dist-packages (from pyasn1-modules>=0.2.1->google-auth<3,>=1.6.3->tensorboard<2.10,>=2.9->tensorflow-gpu) (0.4.8)\n",
            "Requirement already satisfied: idna<3,>=2.5 in /usr/local/lib/python3.7/dist-packages (from requests<3,>=2.21.0->tensorboard<2.10,>=2.9->tensorflow-gpu) (2.10)\n",
            "Requirement already satisfied: chardet<4,>=3.0.2 in /usr/local/lib/python3.7/dist-packages (from requests<3,>=2.21.0->tensorboard<2.10,>=2.9->tensorflow-gpu) (3.0.4)\n",
            "Requirement already satisfied: certifi>=2017.4.17 in /usr/local/lib/python3.7/dist-packages (from requests<3,>=2.21.0->tensorboard<2.10,>=2.9->tensorflow-gpu) (2021.10.8)\n",
            "Requirement already satisfied: urllib3!=1.25.0,!=1.25.1,<1.26,>=1.21.1 in /usr/local/lib/python3.7/dist-packages (from requests<3,>=2.21.0->tensorboard<2.10,>=2.9->tensorflow-gpu) (1.24.3)\n",
            "Requirement already satisfied: oauthlib>=3.0.0 in /usr/local/lib/python3.7/dist-packages (from requests-oauthlib>=0.7.0->google-auth-oauthlib<0.5,>=0.4.1->tensorboard<2.10,>=2.9->tensorflow-gpu) (3.2.0)\n",
            "Requirement already satisfied: pyparsing!=3.0.5,>=2.0.2 in /usr/local/lib/python3.7/dist-packages (from packaging->tensorflow-gpu) (3.0.9)\n",
            "Installing collected packages: tensorflow-estimator, tensorboard, keras, gast, flatbuffers, tensorflow-gpu\n",
            "  Attempting uninstall: tensorflow-estimator\n",
            "    Found existing installation: tensorflow-estimator 2.8.0\n",
            "    Uninstalling tensorflow-estimator-2.8.0:\n",
            "      Successfully uninstalled tensorflow-estimator-2.8.0\n",
            "  Attempting uninstall: tensorboard\n",
            "    Found existing installation: tensorboard 2.8.0\n",
            "    Uninstalling tensorboard-2.8.0:\n",
            "      Successfully uninstalled tensorboard-2.8.0\n",
            "  Attempting uninstall: keras\n",
            "    Found existing installation: keras 2.8.0\n",
            "    Uninstalling keras-2.8.0:\n",
            "      Successfully uninstalled keras-2.8.0\n",
            "  Attempting uninstall: gast\n",
            "    Found existing installation: gast 0.5.3\n",
            "    Uninstalling gast-0.5.3:\n",
            "      Successfully uninstalled gast-0.5.3\n",
            "  Attempting uninstall: flatbuffers\n",
            "    Found existing installation: flatbuffers 2.0\n",
            "    Uninstalling flatbuffers-2.0:\n",
            "      Successfully uninstalled flatbuffers-2.0\n",
            "\u001b[31mERROR: pip's dependency resolver does not currently take into account all the packages that are installed. This behaviour is the source of the following dependency conflicts.\n",
            "tensorflow 2.8.0+zzzcolab20220506162203 requires tf-estimator-nightly==2.8.0.dev2021122109, which is not installed.\n",
            "tensorflow 2.8.0+zzzcolab20220506162203 requires keras<2.9,>=2.8.0rc0, but you have keras 2.9.0 which is incompatible.\n",
            "tensorflow 2.8.0+zzzcolab20220506162203 requires tensorboard<2.9,>=2.8, but you have tensorboard 2.9.0 which is incompatible.\u001b[0m\n",
            "Successfully installed flatbuffers-1.12 gast-0.4.0 keras-2.9.0 tensorboard-2.9.0 tensorflow-estimator-2.9.0 tensorflow-gpu-2.9.0\n"
          ]
        },
        {
          "data": {
            "application/vnd.colab-display-data+json": {
              "pip_warning": {
                "packages": [
                  "flatbuffers",
                  "gast",
                  "keras",
                  "tensorboard",
                  "tensorflow"
                ]
              }
            }
          },
          "metadata": {},
          "output_type": "display_data"
        },
        {
          "name": "stdout",
          "output_type": "stream",
          "text": [
            "Requirement already satisfied: gym in /usr/local/lib/python3.7/dist-packages (0.17.3)\n",
            "Requirement already satisfied: scipy in /usr/local/lib/python3.7/dist-packages (from gym) (1.4.1)\n",
            "Requirement already satisfied: cloudpickle<1.7.0,>=1.2.0 in /usr/local/lib/python3.7/dist-packages (from gym) (1.3.0)\n",
            "Requirement already satisfied: pyglet<=1.5.0,>=1.4.0 in /usr/local/lib/python3.7/dist-packages (from gym) (1.5.0)\n",
            "Requirement already satisfied: numpy>=1.10.4 in /usr/local/lib/python3.7/dist-packages (from gym) (1.21.6)\n",
            "Requirement already satisfied: future in /usr/local/lib/python3.7/dist-packages (from pyglet<=1.5.0,>=1.4.0->gym) (0.16.0)\n",
            "Requirement already satisfied: keras in /usr/local/lib/python3.7/dist-packages (2.9.0)\n",
            "Collecting keras-rl2\n",
            "  Downloading keras_rl2-1.0.5-py3-none-any.whl (52 kB)\n",
            "\u001b[K     |████████████████████████████████| 52 kB 845 kB/s \n",
            "\u001b[?25hRequirement already satisfied: tensorflow in /usr/local/lib/python3.7/dist-packages (from keras-rl2) (2.8.0+zzzcolab20220506162203)\n",
            "Requirement already satisfied: grpcio<2.0,>=1.24.3 in /usr/local/lib/python3.7/dist-packages (from tensorflow->keras-rl2) (1.46.1)\n",
            "Requirement already satisfied: h5py>=2.9.0 in /usr/local/lib/python3.7/dist-packages (from tensorflow->keras-rl2) (3.1.0)\n",
            "Requirement already satisfied: typing-extensions>=3.6.6 in /usr/local/lib/python3.7/dist-packages (from tensorflow->keras-rl2) (4.2.0)\n",
            "Requirement already satisfied: astunparse>=1.6.0 in /usr/local/lib/python3.7/dist-packages (from tensorflow->keras-rl2) (1.6.3)\n",
            "Requirement already satisfied: setuptools in /usr/local/lib/python3.7/dist-packages (from tensorflow->keras-rl2) (57.4.0)\n",
            "Collecting tf-estimator-nightly==2.8.0.dev2021122109\n",
            "  Downloading tf_estimator_nightly-2.8.0.dev2021122109-py2.py3-none-any.whl (462 kB)\n",
            "\u001b[K     |████████████████████████████████| 462 kB 7.5 MB/s \n",
            "\u001b[?25hCollecting tensorboard<2.9,>=2.8\n",
            "  Downloading tensorboard-2.8.0-py3-none-any.whl (5.8 MB)\n",
            "\u001b[K     |████████████████████████████████| 5.8 MB 61.5 MB/s \n",
            "\u001b[?25hRequirement already satisfied: keras-preprocessing>=1.1.1 in /usr/local/lib/python3.7/dist-packages (from tensorflow->keras-rl2) (1.1.2)\n",
            "Requirement already satisfied: tensorflow-io-gcs-filesystem>=0.23.1 in /usr/local/lib/python3.7/dist-packages (from tensorflow->keras-rl2) (0.25.0)\n",
            "Requirement already satisfied: six>=1.12.0 in /usr/local/lib/python3.7/dist-packages (from tensorflow->keras-rl2) (1.15.0)\n",
            "Requirement already satisfied: wrapt>=1.11.0 in /usr/local/lib/python3.7/dist-packages (from tensorflow->keras-rl2) (1.14.1)\n",
            "Requirement already satisfied: flatbuffers>=1.12 in /usr/local/lib/python3.7/dist-packages (from tensorflow->keras-rl2) (1.12)\n",
            "Requirement already satisfied: termcolor>=1.1.0 in /usr/local/lib/python3.7/dist-packages (from tensorflow->keras-rl2) (1.1.0)\n",
            "Requirement already satisfied: gast>=0.2.1 in /usr/local/lib/python3.7/dist-packages (from tensorflow->keras-rl2) (0.4.0)\n",
            "Requirement already satisfied: google-pasta>=0.1.1 in /usr/local/lib/python3.7/dist-packages (from tensorflow->keras-rl2) (0.2.0)\n",
            "Requirement already satisfied: opt-einsum>=2.3.2 in /usr/local/lib/python3.7/dist-packages (from tensorflow->keras-rl2) (3.3.0)\n",
            "Requirement already satisfied: absl-py>=0.4.0 in /usr/local/lib/python3.7/dist-packages (from tensorflow->keras-rl2) (1.0.0)\n",
            "Requirement already satisfied: protobuf>=3.9.2 in /usr/local/lib/python3.7/dist-packages (from tensorflow->keras-rl2) (3.17.3)\n",
            "Requirement already satisfied: numpy>=1.20 in /usr/local/lib/python3.7/dist-packages (from tensorflow->keras-rl2) (1.21.6)\n",
            "Requirement already satisfied: libclang>=9.0.1 in /usr/local/lib/python3.7/dist-packages (from tensorflow->keras-rl2) (14.0.1)\n",
            "Collecting keras<2.9,>=2.8.0rc0\n",
            "  Downloading keras-2.8.0-py2.py3-none-any.whl (1.4 MB)\n",
            "\u001b[K     |████████████████████████████████| 1.4 MB 49.8 MB/s \n",
            "\u001b[?25hRequirement already satisfied: wheel<1.0,>=0.23.0 in /usr/local/lib/python3.7/dist-packages (from astunparse>=1.6.0->tensorflow->keras-rl2) (0.37.1)\n",
            "Requirement already satisfied: cached-property in /usr/local/lib/python3.7/dist-packages (from h5py>=2.9.0->tensorflow->keras-rl2) (1.5.2)\n",
            "Requirement already satisfied: tensorboard-plugin-wit>=1.6.0 in /usr/local/lib/python3.7/dist-packages (from tensorboard<2.9,>=2.8->tensorflow->keras-rl2) (1.8.1)\n",
            "Requirement already satisfied: google-auth-oauthlib<0.5,>=0.4.1 in /usr/local/lib/python3.7/dist-packages (from tensorboard<2.9,>=2.8->tensorflow->keras-rl2) (0.4.6)\n",
            "Requirement already satisfied: google-auth<3,>=1.6.3 in /usr/local/lib/python3.7/dist-packages (from tensorboard<2.9,>=2.8->tensorflow->keras-rl2) (1.35.0)\n",
            "Requirement already satisfied: markdown>=2.6.8 in /usr/local/lib/python3.7/dist-packages (from tensorboard<2.9,>=2.8->tensorflow->keras-rl2) (3.3.7)\n",
            "Requirement already satisfied: werkzeug>=0.11.15 in /usr/local/lib/python3.7/dist-packages (from tensorboard<2.9,>=2.8->tensorflow->keras-rl2) (1.0.1)\n",
            "Requirement already satisfied: requests<3,>=2.21.0 in /usr/local/lib/python3.7/dist-packages (from tensorboard<2.9,>=2.8->tensorflow->keras-rl2) (2.23.0)\n",
            "Requirement already satisfied: tensorboard-data-server<0.7.0,>=0.6.0 in /usr/local/lib/python3.7/dist-packages (from tensorboard<2.9,>=2.8->tensorflow->keras-rl2) (0.6.1)\n",
            "Requirement already satisfied: pyasn1-modules>=0.2.1 in /usr/local/lib/python3.7/dist-packages (from google-auth<3,>=1.6.3->tensorboard<2.9,>=2.8->tensorflow->keras-rl2) (0.2.8)\n",
            "Requirement already satisfied: rsa<5,>=3.1.4 in /usr/local/lib/python3.7/dist-packages (from google-auth<3,>=1.6.3->tensorboard<2.9,>=2.8->tensorflow->keras-rl2) (4.8)\n",
            "Requirement already satisfied: cachetools<5.0,>=2.0.0 in /usr/local/lib/python3.7/dist-packages (from google-auth<3,>=1.6.3->tensorboard<2.9,>=2.8->tensorflow->keras-rl2) (4.2.4)\n",
            "Requirement already satisfied: requests-oauthlib>=0.7.0 in /usr/local/lib/python3.7/dist-packages (from google-auth-oauthlib<0.5,>=0.4.1->tensorboard<2.9,>=2.8->tensorflow->keras-rl2) (1.3.1)\n",
            "Requirement already satisfied: importlib-metadata>=4.4 in /usr/local/lib/python3.7/dist-packages (from markdown>=2.6.8->tensorboard<2.9,>=2.8->tensorflow->keras-rl2) (4.11.3)\n",
            "Requirement already satisfied: zipp>=0.5 in /usr/local/lib/python3.7/dist-packages (from importlib-metadata>=4.4->markdown>=2.6.8->tensorboard<2.9,>=2.8->tensorflow->keras-rl2) (3.8.0)\n",
            "Requirement already satisfied: pyasn1<0.5.0,>=0.4.6 in /usr/local/lib/python3.7/dist-packages (from pyasn1-modules>=0.2.1->google-auth<3,>=1.6.3->tensorboard<2.9,>=2.8->tensorflow->keras-rl2) (0.4.8)\n",
            "Requirement already satisfied: certifi>=2017.4.17 in /usr/local/lib/python3.7/dist-packages (from requests<3,>=2.21.0->tensorboard<2.9,>=2.8->tensorflow->keras-rl2) (2021.10.8)\n",
            "Requirement already satisfied: chardet<4,>=3.0.2 in /usr/local/lib/python3.7/dist-packages (from requests<3,>=2.21.0->tensorboard<2.9,>=2.8->tensorflow->keras-rl2) (3.0.4)\n",
            "Requirement already satisfied: urllib3!=1.25.0,!=1.25.1,<1.26,>=1.21.1 in /usr/local/lib/python3.7/dist-packages (from requests<3,>=2.21.0->tensorboard<2.9,>=2.8->tensorflow->keras-rl2) (1.24.3)\n",
            "Requirement already satisfied: idna<3,>=2.5 in /usr/local/lib/python3.7/dist-packages (from requests<3,>=2.21.0->tensorboard<2.9,>=2.8->tensorflow->keras-rl2) (2.10)\n",
            "Requirement already satisfied: oauthlib>=3.0.0 in /usr/local/lib/python3.7/dist-packages (from requests-oauthlib>=0.7.0->google-auth-oauthlib<0.5,>=0.4.1->tensorboard<2.9,>=2.8->tensorflow->keras-rl2) (3.2.0)\n",
            "Installing collected packages: tf-estimator-nightly, tensorboard, keras, keras-rl2\n",
            "  Attempting uninstall: tensorboard\n",
            "    Found existing installation: tensorboard 2.9.0\n",
            "    Uninstalling tensorboard-2.9.0:\n",
            "      Successfully uninstalled tensorboard-2.9.0\n",
            "  Attempting uninstall: keras\n",
            "    Found existing installation: keras 2.9.0\n",
            "    Uninstalling keras-2.9.0:\n",
            "      Successfully uninstalled keras-2.9.0\n",
            "\u001b[31mERROR: pip's dependency resolver does not currently take into account all the packages that are installed. This behaviour is the source of the following dependency conflicts.\n",
            "tensorflow-gpu 2.9.0 requires keras<2.10.0,>=2.9.0rc0, but you have keras 2.8.0 which is incompatible.\n",
            "tensorflow-gpu 2.9.0 requires tensorboard<2.10,>=2.9, but you have tensorboard 2.8.0 which is incompatible.\u001b[0m\n",
            "Successfully installed keras-2.8.0 keras-rl2-1.0.5 tensorboard-2.8.0 tf-estimator-nightly-2.8.0.dev2021122109\n"
          ]
        },
        {
          "data": {
            "application/vnd.colab-display-data+json": {
              "pip_warning": {
                "packages": [
                  "keras",
                  "tensorboard"
                ]
              }
            }
          },
          "metadata": {},
          "output_type": "display_data"
        }
      ],
      "source": [
        "#@title Default title text\n",
        "!pip install tensorflow-gpu\n",
        "!pip install gym\n",
        "!pip install keras\n",
        "!pip install keras-rl2"
      ]
    },
    {
      "cell_type": "code",
      "execution_count": null,
      "metadata": {
        "id": "2Edd3J6CXWO0"
      },
      "outputs": [],
      "source": [
        "!pip uninstall opencv-python\n",
        "!pip install opencv-python"
      ]
    },
    {
      "cell_type": "code",
      "execution_count": null,
      "metadata": {
        "id": "pGxFmehkYXJV"
      },
      "outputs": [],
      "source": [
        "!zip -r /content/venv.zip /content/theanoEnv"
      ]
    },
    {
      "cell_type": "code",
      "execution_count": null,
      "metadata": {
        "id": "xKXKzzjg4D66"
      },
      "outputs": [],
      "source": [
        "import tensorflow as tf\n",
        "import tensorflow.keras as keras\n",
        "import tensorflow.keras.layers as layers\n",
        "import tensorflow.keras.initializers as initializers\n",
        "from tensorflow.keras.optimizers import Adam"
      ]
    },
    {
      "cell_type": "code",
      "source": [
        "!nvidia-smi"
      ],
      "metadata": {
        "id": "T13C94GBO6PF",
        "outputId": "b0baa34d-4de2-405a-d0ca-c1d7f5281a6a",
        "colab": {
          "base_uri": "https://localhost:8080/"
        }
      },
      "execution_count": null,
      "outputs": [
        {
          "output_type": "stream",
          "name": "stdout",
          "text": [
            "Fri Nov 18 10:14:37 2022       \n",
            "+-----------------------------------------------------------------------------+\n",
            "| NVIDIA-SMI 460.32.03    Driver Version: 460.32.03    CUDA Version: 11.2     |\n",
            "|-------------------------------+----------------------+----------------------+\n",
            "| GPU  Name        Persistence-M| Bus-Id        Disp.A | Volatile Uncorr. ECC |\n",
            "| Fan  Temp  Perf  Pwr:Usage/Cap|         Memory-Usage | GPU-Util  Compute M. |\n",
            "|                               |                      |               MIG M. |\n",
            "|===============================+======================+======================|\n",
            "|   0  Tesla T4            Off  | 00000000:00:04.0 Off |                    0 |\n",
            "| N/A   35C    P8     9W /  70W |      0MiB / 15109MiB |      0%      Default |\n",
            "|                               |                      |                  N/A |\n",
            "+-------------------------------+----------------------+----------------------+\n",
            "                                                                               \n",
            "+-----------------------------------------------------------------------------+\n",
            "| Processes:                                                                  |\n",
            "|  GPU   GI   CI        PID   Type   Process name                  GPU Memory |\n",
            "|        ID   ID                                                   Usage      |\n",
            "|=============================================================================|\n",
            "|  No running processes found                                                 |\n",
            "+-----------------------------------------------------------------------------+\n"
          ]
        }
      ]
    },
    {
      "cell_type": "markdown",
      "metadata": {
        "id": "7lRU1LRf3Jg8"
      },
      "source": [
        "# 1. Test Random Environment with OpenAI Gym"
      ]
    },
    {
      "cell_type": "code",
      "execution_count": 22,
      "metadata": {
        "id": "Syoe9mzw3Jg-"
      },
      "outputs": [],
      "source": [
        "import gym\n",
        "from gym import Env\n",
        "from gym.spaces import Discrete, Box\n",
        "import numpy as np\n",
        "import random\n",
        "\n",
        "import math\n",
        "import cv2\n",
        "from google.colab.patches import cv2_imshow\n",
        "import matplotlib.pyplot as plt\n",
        "import PIL.Image as Image\n",
        "\n",
        "from gym import Env, spaces\n",
        "import time"
      ]
    },
    {
      "cell_type": "code",
      "source": [
        "print(cv2.__version__)"
      ],
      "metadata": {
        "id": "7bwmzwtbarGQ",
        "outputId": "1a6319ca-6a10-4940-841b-fbbd56ecc7fa",
        "colab": {
          "base_uri": "https://localhost:8080/"
        }
      },
      "execution_count": null,
      "outputs": [
        {
          "output_type": "stream",
          "name": "stdout",
          "text": [
            "4.7.0\n"
          ]
        },
        {
          "output_type": "stream",
          "name": "stderr",
          "text": [
            "/usr/local/lib/python3.9/dist-packages/ipykernel/ipkernel.py:283: DeprecationWarning: `should_run_async` will not call `transform_cell` automatically in the future. Please pass the result to `transformed_cell` argument and any exception that happen during thetransform in `preprocessing_exc_tuple` in IPython 7.17 and above.\n",
            "  and should_run_async(code)\n"
          ]
        }
      ]
    },
    {
      "cell_type": "code",
      "execution_count": 23,
      "metadata": {
        "id": "V1uiVAwL5KAd"
      },
      "outputs": [],
      "source": [
        "class Point(object):\n",
        "    #def __init__(self, name, x_max, x_min, y_max, y_min):\n",
        "    def __init__(self,x,y, x_max, x_min, y_max, y_min):\n",
        "        self.x = x\n",
        "        self.y = y\n",
        "        self.x_min = x_min\n",
        "        self.x_max = x_max\n",
        "        self.y_min = y_min\n",
        "        self.y_max = y_max\n",
        "        self.position = 0\n",
        "        self.set_position(x,y)\n",
        "        #self.name = name\n",
        "\n",
        "    def set_position(self,x,y):\n",
        "        self.x = self.clamp(x, self.x_min, self.x_max)\n",
        "        self.y = self.clamp(y, self.y_min, self.y_max)\n",
        "        self.position = (self.x,self.y)\n",
        "\n",
        "    def get_position(self):\n",
        "        #print(f\"Current agent posisiotn:{self.position}\")\n",
        "        return self.position\n",
        "\n",
        "    def clamp(self, n, minn, maxn):#to keep agent inside the grid\n",
        "        return max(min(maxn, n), minn)\n",
        "\n",
        "class Drone(Point):\n",
        "    def __init__(self,x,y, x_max, x_min, y_max, y_min):\n",
        "        super().__init__(x,y,x_max, x_min, y_max, y_min)\n",
        "        self.positionDrone = self.get_position()\n",
        "        self.action_space = spaces.Discrete(5,)\n",
        "\n",
        "    def action(self, choice,ratio):\n",
        "        #Gives us 5 total movement options. 0:(0,1), 1:(1,1), 2:(1,0), 3:(-1,1), 4:(-1,0), 5:(-1,-1), 6:(0,-1), 7:(1,-1)\n",
        "\n",
        "        if choice == 0:\n",
        "            self.move(0*ratio, 1*ratio)\n",
        "        elif choice == 1:\n",
        "            self.move(1*ratio , 1*ratio)\n",
        "        elif choice == 2:\n",
        "            self.move(1*ratio , 0*ratio)\n",
        "        elif choice == 3:\n",
        "            self.move(-1*ratio , 1*ratio)\n",
        "        elif choice == 4:\n",
        "            self.move(-1*ratio , 0*ratio)\n",
        "\n",
        "        '''\n",
        "        elif choice == 5:\n",
        "            self.move(-1*ratio , -1*ratio)\n",
        "        elif choice == 6:\n",
        "            self.move(0*ratio , -1*ratio)\n",
        "        elif choice == 7:\n",
        "            self.move(1*ratio , -1*ratio)\n",
        "        '''\n",
        "        return self.position\n",
        "\n",
        "    def actionf(self, choice):\n",
        "        #Gives us 5 total movement options. 0:(0,1), 1:(1,1), 2:(1,0), 3:(-1,1), 4:(-1,0), 5:(-1,-1), 6:(0,-1), 7:(1,-1)\n",
        "\n",
        "        if choice == 0:\n",
        "            self.move(0, 1)\n",
        "        elif choice == 1:\n",
        "            self.move(1, 1)\n",
        "        elif choice == 2:\n",
        "            self.move(1 , 0)\n",
        "        elif choice == 3:\n",
        "            self.move(-1 , 1)\n",
        "        elif choice == 4:\n",
        "            self.move(-1, 0)\n",
        "        return self.position\n",
        "\n",
        "    def move(self, del_x, del_y):\n",
        "        self.x += del_x\n",
        "        self.y += del_y\n",
        "\n",
        "        self.x = self.clamp(self.x, self.x_min, self.x_max )\n",
        "        self.y = self.clamp(self.y, self.y_min, self.y_max )\n",
        "        self.position = (self.x,self.y)"
      ]
    },
    {
      "cell_type": "code",
      "execution_count": 24,
      "metadata": {
        "id": "zd7u4Gv65TmX"
      },
      "outputs": [],
      "source": [
        "from gym.envs import registration\n",
        "\n",
        "class HandleImage:\n",
        "  def __init__(self,image):\n",
        "    self.image = image\n",
        "    #All operations will be performed when we create a new instance of this class:\n",
        "    self.changedImage = self.ConvertImageToGrayScale()\n",
        "    #self.changedImage = self.ConvertImageToBW()\n",
        "    self.h = 0\n",
        "    self.w = 0\n",
        "\n",
        "    self.numOfPeices = 10\n",
        "    (self.h,self.w) = self.GetImageSize(self.changedImage)\n",
        "    self.resizeFactor = self.w/self.h\n",
        "    #self.Obstacles = []\n",
        "    #self.Obstacles = [(math.floor(85/self.resizeFactor),math.floor(60/self.resizeFactor))]\n",
        "\n",
        "\n",
        "    #print(f\"image size: w ={self.w} and h ={self.h}\")\n",
        "    self.imagePixels = []\n",
        "    self.MapAllImagePixels(self.changedImage)\n",
        "\n",
        "  def ConvertImageToGrayScale(self):\n",
        "    return \tcv2.cvtColor(self.image, cv2.COLOR_BGR2GRAY)\n",
        "\n",
        "  def ConvertImageToBW(self):\n",
        "    grayImage = cv2.cvtColor(self.image, cv2.COLOR_BGR2GRAY)\n",
        "    (thresh, blackAndWhiteImage) = cv2.threshold(grayImage, 125, 255, cv2.THRESH_BINARY)\n",
        "    return blackAndWhiteImage\n",
        "\n",
        "  def valuesofimage(self):\n",
        "    for i in range (255):\n",
        "      print(f\"{self.changedImage[i]}\")\n",
        "\n",
        "  def GetImageSize(self,grayImage):\n",
        "    return grayImage.shape[:2]\n",
        "\n",
        "  def DisplayImage(self,image):\n",
        "    cv2_imshow(image)\n",
        "    #cv2.imshow('Image', image)\n",
        "    cv2.waitKey(0)\n",
        "    cv2.destroyAllWindows()\n",
        "  '''\n",
        "  def GetPixelValueFromPoint(self,(x,y)):\n",
        "    #k = img[i,j] print(k)\n",
        "    #To get all values: #rows,cols = img.shape  #for i in range(rows): #for j in range(cols):\n",
        "    return img[x,y]\n",
        "  '''\n",
        "\n",
        "  def MapAllImagePixels(self,grayImage):\n",
        "    (imageWidth,imageHeight) = (self.w, self.h)\n",
        "    for i in range (self.h):\n",
        "      for j in range (self.w):\n",
        "          self.imagePixels.append([(i,j),imageHeight - imageWidth*i +j,grayImage[i,j],0])#this list will be: ((x,y),MapedCoordinate,Level,count)=>(point,mappedPoint,PixelLevel,visitedStateCnt)\n",
        "    #print(len(self.imagePixels))\n",
        "\n",
        "  def MapPeiceOfPixels(self,initPos,newPos):\n",
        "    (imageWidth,imageHeight) = (newPos[0]-initPos[0], newPos[1]-initPos[1])\n",
        "    for i in range (initPos[0],newPos[0]):\n",
        "      for j in range (initPos[1],newPos[1]):\n",
        "          self.imagePixels.append([(i,j),imageHeight - imageWidth*i +j,self.changedImage[i,j],0])#this list will be: ((x,y),MapedCoordinate,Level,count)=>(point,mappedPoint,PixelLevel,visitedStateCnt)\n",
        "    #pass\n",
        "\n",
        "  def LoadPeiceOfArray(self,position):\n",
        "    #check if the position x and y are within the dimensions\n",
        "    #must pass numOFPeices by argument\n",
        "    self.imagePixels.clear()\n",
        "    x = position[0]+self.w/self.numOfPeices\n",
        "    y = position[1]+(self.w/self.numOfPeices)/self.resizeFactor\n",
        "    if x > self.w:\n",
        "      x = self.w\n",
        "    if y > self.h:\n",
        "      y = self.h\n",
        "    new_pos = (x , y)\n",
        "\n",
        "    self.MapPeiceOfPixels(position,new_pos)\n",
        "    return new_pos\n",
        "\n",
        "\n",
        "  def MapState(self,position):\n",
        "    return (self.h - self.w*position[0] + position[1])\n",
        "\n",
        "  def GetAllImageState(self):\n",
        "    AllImageState = []\n",
        "    #print(f\"we have height:{imageHeight} and width:{imageWidth}\")\n",
        "    for State in self.imagePixels:\n",
        "      AllImageState.append(State[1])\n",
        "    #print(type(np.array[AllImageState]))\n",
        "    return np.array([AllImageState])\n",
        "\n",
        "\n",
        "  def GetMappedState(self,position):\n",
        "    for i in range (len(self.imagePixels)): #check if we have to use foreach\n",
        "      if self.imagePixels[i][0] == position:\n",
        "        return self.imagePixels[i][1]\n",
        "    return -1\n",
        "\n",
        "  def GetRewardForBlackAndWhite(self,PixelValue):\n",
        "    reward = PixelValue if  PixelValue > 200 and  PixelValue <255 else -10\n",
        "    return reward\n"
      ]
    },
    {
      "cell_type": "code",
      "execution_count": 25,
      "metadata": {
        "id": "bd7qsNKI3Jg_"
      },
      "outputs": [],
      "source": [
        "from IPython.core.display import Math\n",
        "class ShowerEnv(Env):\n",
        "    def __init__(self,image):\n",
        "        self.image = HandleImage(image) #this will create a new image class, it contains the size, and then we call the create pixels array from this one.\n",
        "        #create the agent\n",
        "        self.drone = Drone(0,0,(self.image.w-1),1,(self.image.h-1),1)# this will take the size from the image, in the code later we create the new image\n",
        "        self.action_space = self.drone.action_space#Discrete(3)\n",
        "        # Navigation array, so we track the movement for each episode.\n",
        "        self.navigation = []\n",
        "        # we will be cropping the image, and getting a peice of the image, and so we handle every peice alone.\n",
        "        # every peice will have its own coordinate, so no need to load all the pixels, or even the apropriate peice pixels.\n",
        "        '''\n",
        "        if self.image.imagePixels:\n",
        "          self.observation_space =  self.image.GetAllImageState()\n",
        "        else :\n",
        "          self.image.MapAllImagePixels(image.grayImage)\n",
        "          self.observation_space =  self.image.GetAllImageState()\n",
        "        '''\n",
        "        #place drone at random location when start at the top of the map\n",
        "        #self.drone.set_position(math.floor(random.randint(0,self.image.w)/self.image.resizeFactor), 1)\n",
        "        self.defaultposition = self.drone.get_position()\n",
        "        #print(self.defaultposition)\n",
        "        #                        math.floor(random.randint(0,self.image.h)/self.image.resizeFactor)) #change the position according to the pos from image\n",
        "        #self.state = self.reset()\n",
        "        # Set episode length, will be set after we declare a new image and get the pixels array, this will be in the main\n",
        "        self.episode_length = len(self.image.imagePixels)\n",
        "        print(f\"episode length:{self.episode_length}\")\n",
        "        self.continuousPath = 0\n",
        "\n",
        "    def step(self, action):\n",
        "        # Apply action\n",
        "        new_state = 0\n",
        "        reward = 0\n",
        "        done = False\n",
        "\n",
        "        new_position = self.drone.actionf(action)\n",
        "        #print(f\"in step fct: action:{action},new_position:{new_position}\")\n",
        "\n",
        "        for i in range(len(self.image.imagePixels)):\n",
        "\n",
        "              if self.image.imagePixels[i][0] == new_position:\n",
        "                      new_state = self.image.imagePixels[i][1]\n",
        "                      reward = self.image.GetRewardForBlackAndWhite(self.image.imagePixels[i][2])\n",
        "                      self.image.imagePixels[i][3] = self.image.imagePixels[i][3] +1\n",
        "\n",
        "                      self.episode_length = self.episode_length -1\n",
        "\n",
        "                      if (self.episode_length <= 0):\n",
        "                        print(\"full episode\")\n",
        "                        reward = -10\n",
        "                        done = True\n",
        "                        break\n",
        "                      if new_position == (self.image.w-1,self.image.h-1):\n",
        "                        print(\"goal reached with position\")\n",
        "                        #pass\n",
        "                        done = True\n",
        "                        reward += self.continuousPath+10\n",
        "\n",
        "                      if new_state == self.image.MapState((self.image.w-1,self.image.h-1)):\n",
        "                        print(\"goal reached with state\")\n",
        "                        #pass\n",
        "                        done = True\n",
        "                        reward += self.continuousPath+10\n",
        "                      if reward <0:\n",
        "                        self.continuousPath =0\n",
        "                      if new_position[0]== 0 or new_position[0] == self.image.w-1 or \\\n",
        "                           new_position[1]== 0 or new_position[1]== self.image.h-1:\n",
        "                           print(\"limit reached\")\n",
        "                           done = True\n",
        "                           break\n",
        "\n",
        "\n",
        "                      if self.image.imagePixels[i][3] > 2:\n",
        "                        #print(f\" pos:{new_position},visitied : {self.image.imagePixels[i][3]}\")\n",
        "                        self.image.imagePixels[i][3] = 0\n",
        "                        self.step(1)\n",
        "                      self.continuousPath +=1\n",
        "                      break\n",
        "\n",
        "        self.navigation.append(new_position)\n",
        "\n",
        "        # Set placeholder for info\n",
        "        info = {}\n",
        "\n",
        "        # Return step information\n",
        "        return new_state, reward, done, info\n",
        "\n",
        "    def render(self):\n",
        "        # Implement viz\n",
        "        pass\n",
        "\n",
        "    def reset(self):\n",
        "        self.episode_length = len(self.image.imagePixels)\n",
        "        self.navigation.clear()\n",
        "        self.drone.set_position(self.defaultposition[0],self.defaultposition[1]) #need to get initiale position for every new image\n",
        "        done = False\n",
        "        for i in range(len(self.image.imagePixels)): #reset count for all pixels\n",
        "          self.image.imagePixels[i][3] = 0\n",
        "        #return self.image.imagePixels\n",
        "        #print(f\"new episode: length:{self.episode_length}, drone pos={self.drone.get_position()},mapped pose={self.image.GetMappedState(self.drone.get_position())}\")\n",
        "        return self.image.GetMappedState(self.drone.get_position())\n",
        "\n",
        "\n"
      ]
    },
    {
      "cell_type": "code",
      "execution_count": 26,
      "metadata": {
        "id": "S7IWvkfH5fzW"
      },
      "outputs": [],
      "source": [
        "def PlottingMap(env, pathName):\n",
        "  plt.xlim(0, env.image.w-1)\n",
        "  plt.ylim(0, env.image.h-1)\n",
        "\n",
        "  x = env.image.w\n",
        "  y = env.image.h\n",
        "  im = cv2.rotate( env.image.image,cv2.ROTATE_90_COUNTERCLOCKWISE)\n",
        "  for item in range (len(env.navigation)):\n",
        "        x = env.navigation[item][0]\n",
        "        y = env.navigation[item][1]\n",
        "        plt.plot(x, y,scalex=True,scaley=True, marker=\"x\", markersize=5, markeredgecolor=\"blue\", markerfacecolor=\"green\")\n",
        "\n",
        "  plt.grid(True)\n",
        "  plt.savefig(f'/content/sample_data/result/plot{pathName}.png')\n",
        "  plt.imshow(env.image.image,origin='lower')#,vmin = 0, vmax = 255)\n",
        "  plt.title('matplotlib.pyplot.grid() function Example\\n\\n', fontweight =\"bold\")\n",
        "  plt.show()"
      ]
    },
    {
      "cell_type": "code",
      "execution_count": 27,
      "metadata": {
        "id": "hqjIpLTyDO9-"
      },
      "outputs": [],
      "source": [
        "#don't run, it is already sliced and saved on drive\n",
        "import os\n",
        "from PIL import ImageFile, Image\n",
        "ImageFile.LOAD_TRUNCATED_IMAGES = True\n",
        "\n",
        "def crop(infile,height,width,numPic):\n",
        "    im = Image.open(infile)\n",
        "    imgwidth, imgheight = im.size\n",
        "    for i in range (numPic):\n",
        "      box = (i*width, i*height,(i+1)*width, (i+1)*height)\n",
        "      print(f\"the box:{box}\")\n",
        "      yield im.crop(box)\n",
        "\n",
        "def MatrixOfPeices(infile,height,width,numpeices,rows,cols):\n",
        "    map_peices = []\n",
        "    #rows, cols = (5, 5)\n",
        "    #arr = [[0]*cols for _ in range(rows)] # we have to type it this way to be able to update every element or else each time all elements are updated the same\n",
        "    #infile='/content/sample_data/mapp1.png'\n",
        "    start_num=0\n",
        "    #Slice image to peices by h*w\n",
        "    for k,piece in enumerate(crop(infile,height,width,numpeices),start_num):\n",
        "      #print(k)\n",
        "      img=Image.new('RGB', (width,height), 255)\n",
        "      img.paste(piece)\n",
        "      path=os.path.join('/content/sample_data/image/',\"IMG-%s.png\" % k)\n",
        "      img.save(path) #save images path\n",
        "      map_peices.append(path)\n",
        "      #arr.append(path)\n",
        "    #print(len(map_peices))\n",
        "    return map_peices\n",
        "    '''\n",
        "    index = 0\n",
        "    #assign peices to matrix position\n",
        "    for row in range(0,len(arr)):\n",
        "      for item in range(len(arr[row])):\n",
        "        #print(f\"row:{row},col:{item} \")\n",
        "        arr[row][item] = map_peices[index]\n",
        "        index +=1\n",
        "        #print(f\"row:{row},col:{item} is {arr[row][item]}\" )\n",
        "    return arr\n",
        "    '''"
      ]
    },
    {
      "cell_type": "code",
      "source": [
        "!python -m pip install image_slicer"
      ],
      "metadata": {
        "id": "tpcn8mz796PZ"
      },
      "execution_count": null,
      "outputs": []
    },
    {
      "cell_type": "code",
      "source": [
        "import image_slicer\n",
        "image_slicer.slice('/content/gdrive/MyDrive/map.png', 14)"
      ],
      "metadata": {
        "id": "iOKhjg489-hC"
      },
      "execution_count": null,
      "outputs": []
    },
    {
      "cell_type": "code",
      "source": [
        "import cv2\n",
        "import numpy as np\n",
        "\n",
        "grayImage = '/content/gdrive/MyDrive/map_04_04.png'\n",
        "image = cv2.imread(grayImage)\n",
        "(h,w) =image.shape[:2]\n",
        "print(np.average(image))"
      ],
      "metadata": {
        "colab": {
          "base_uri": "https://localhost:8080/"
        },
        "id": "tdlNMfLL-gve",
        "outputId": "189a5bed-efd6-4d8a-a5e5-70639ad95573"
      },
      "execution_count": 15,
      "outputs": [
        {
          "output_type": "stream",
          "name": "stdout",
          "text": [
            "67.74529668423878\n"
          ]
        }
      ]
    },
    {
      "cell_type": "markdown",
      "source": [
        "# Weigths for pictures and json"
      ],
      "metadata": {
        "id": "HrTOAF9KB81v"
      }
    },
    {
      "cell_type": "code",
      "source": [
        "import glob\n",
        "#add all peices to an array\n",
        "tiles = glob.glob('/content/gdrive/MyDrive/map_*')\n",
        "#tiles"
      ],
      "metadata": {
        "id": "0d9w03V4CCcF"
      },
      "execution_count": 3,
      "outputs": []
    },
    {
      "cell_type": "code",
      "source": [
        "means = []\n",
        "for t in tiles:\n",
        "  #print(f\"{t}\") #t is the name of the file\n",
        "  image = cv2.imread(t)\n",
        "  (h,w) =image.shape[:2]\n",
        "  means.append(np.average(image))\n",
        "  #filename = t\n",
        "means"
      ],
      "metadata": {
        "id": "8bq737ZXCHSv"
      },
      "execution_count": null,
      "outputs": []
    },
    {
      "cell_type": "code",
      "source": [
        "M_peices = []\n",
        "for  i, j in enumerate (means):\n",
        "  if j >50 : M_peices.append(tiles[i])\n",
        "\n",
        "M_peices"
      ],
      "metadata": {
        "colab": {
          "base_uri": "https://localhost:8080/"
        },
        "id": "UnN7vKBEwIgC",
        "outputId": "33693cb2-38e8-42c8-91a1-490fa5098e2d"
      },
      "execution_count": 20,
      "outputs": [
        {
          "output_type": "execute_result",
          "data": {
            "text/plain": [
              "['/content/gdrive/MyDrive/map_01_02.png',\n",
              " '/content/gdrive/MyDrive/map_01_03.png',\n",
              " '/content/gdrive/MyDrive/map_01_04.png',\n",
              " '/content/gdrive/MyDrive/map_02_01.png',\n",
              " '/content/gdrive/MyDrive/map_02_02.png',\n",
              " '/content/gdrive/MyDrive/map_02_03.png',\n",
              " '/content/gdrive/MyDrive/map_03_01.png',\n",
              " '/content/gdrive/MyDrive/map_03_02.png',\n",
              " '/content/gdrive/MyDrive/map_03_03.png',\n",
              " '/content/gdrive/MyDrive/map_04_01.png',\n",
              " '/content/gdrive/MyDrive/map_04_02.png',\n",
              " '/content/gdrive/MyDrive/map_04_03.png',\n",
              " '/content/gdrive/MyDrive/map_04_04.png']"
            ]
          },
          "metadata": {},
          "execution_count": 20
        }
      ]
    },
    {
      "cell_type": "markdown",
      "metadata": {
        "id": "rrZk-TZdnnp1"
      },
      "source": [
        "# **Q-Learning**"
      ]
    },
    {
      "cell_type": "code",
      "execution_count": null,
      "metadata": {
        "colab": {
          "base_uri": "https://localhost:8080/",
          "height": 356
        },
        "id": "ikEo6WNR3JhD",
        "outputId": "e9aae10d-a845-4098-acfa-84adc8752412"
      },
      "outputs": [
        {
          "ename": "IndexError",
          "evalue": "ignored",
          "output_type": "error",
          "traceback": [
            "\u001b[0;31m---------------------------------------------------------------------------\u001b[0m",
            "\u001b[0;31mIndexError\u001b[0m                                Traceback (most recent call last)",
            "\u001b[0;32m<ipython-input-9-f663d4ecb907>\u001b[0m in \u001b[0;36m<module>\u001b[0;34m()\u001b[0m\n\u001b[1;32m     41\u001b[0m         \u001b[0;31m#print(f\"action={action}, on state = {state}\")\u001b[0m\u001b[0;34m\u001b[0m\u001b[0;34m\u001b[0m\u001b[0;34m\u001b[0m\u001b[0m\n\u001b[1;32m     42\u001b[0m         \u001b[0;31m#print(action)\u001b[0m\u001b[0;34m\u001b[0m\u001b[0;34m\u001b[0m\u001b[0;34m\u001b[0m\u001b[0m\n\u001b[0;32m---> 43\u001b[0;31m         \u001b[0mn_state\u001b[0m\u001b[0;34m,\u001b[0m \u001b[0mreward\u001b[0m\u001b[0;34m,\u001b[0m \u001b[0mdone\u001b[0m\u001b[0;34m,\u001b[0m \u001b[0minfo\u001b[0m \u001b[0;34m=\u001b[0m \u001b[0menv\u001b[0m\u001b[0;34m.\u001b[0m\u001b[0mstep\u001b[0m\u001b[0;34m(\u001b[0m\u001b[0maction\u001b[0m\u001b[0;34m)\u001b[0m\u001b[0;34m\u001b[0m\u001b[0;34m\u001b[0m\u001b[0m\n\u001b[0m\u001b[1;32m     44\u001b[0m         \u001b[0;31m#print(f\"result:{n_state}, {reward}, {done}\")\u001b[0m\u001b[0;34m\u001b[0m\u001b[0;34m\u001b[0m\u001b[0;34m\u001b[0m\u001b[0m\n\u001b[1;32m     45\u001b[0m         \u001b[0;31m#else:\u001b[0m\u001b[0;34m\u001b[0m\u001b[0;34m\u001b[0m\u001b[0;34m\u001b[0m\u001b[0m\n",
            "\u001b[0;32m<ipython-input-7-c22815d23cb9>\u001b[0m in \u001b[0;36mstep\u001b[0;34m(self, action)\u001b[0m\n\u001b[1;32m     37\u001b[0m         \u001b[0;32mfor\u001b[0m \u001b[0mi\u001b[0m \u001b[0;32min\u001b[0m \u001b[0mrange\u001b[0m \u001b[0;34m(\u001b[0m\u001b[0mself\u001b[0m\u001b[0;34m.\u001b[0m\u001b[0maction_space\u001b[0m\u001b[0;34m.\u001b[0m\u001b[0mn\u001b[0m \u001b[0;34m-\u001b[0m\u001b[0;36m1\u001b[0m\u001b[0;34m)\u001b[0m\u001b[0;34m:\u001b[0m\u001b[0;34m\u001b[0m\u001b[0;34m\u001b[0m\u001b[0m\n\u001b[1;32m     38\u001b[0m            \u001b[0mnew_position\u001b[0m \u001b[0;34m=\u001b[0m \u001b[0mself\u001b[0m\u001b[0;34m.\u001b[0m\u001b[0mdrone\u001b[0m\u001b[0;34m.\u001b[0m\u001b[0maction\u001b[0m\u001b[0;34m(\u001b[0m\u001b[0maction\u001b[0m \u001b[0;34m,\u001b[0m\u001b[0mmath\u001b[0m\u001b[0;34m.\u001b[0m\u001b[0mfloor\u001b[0m\u001b[0;34m(\u001b[0m\u001b[0mself\u001b[0m\u001b[0;34m.\u001b[0m\u001b[0mimage\u001b[0m\u001b[0;34m.\u001b[0m\u001b[0mw\u001b[0m\u001b[0;34m/\u001b[0m\u001b[0mself\u001b[0m\u001b[0;34m.\u001b[0m\u001b[0mimage\u001b[0m\u001b[0;34m.\u001b[0m\u001b[0mh\u001b[0m\u001b[0;34m)\u001b[0m\u001b[0;34m)\u001b[0m\u001b[0;34m\u001b[0m\u001b[0;34m\u001b[0m\u001b[0m\n\u001b[0;32m---> 39\u001b[0;31m            \u001b[0mrewardAll\u001b[0m\u001b[0;34m[\u001b[0m\u001b[0mi\u001b[0m\u001b[0;34m]\u001b[0m \u001b[0;34m=\u001b[0m \u001b[0mself\u001b[0m\u001b[0;34m.\u001b[0m\u001b[0mimage\u001b[0m\u001b[0;34m.\u001b[0m\u001b[0mchangedImage\u001b[0m\u001b[0;34m[\u001b[0m\u001b[0mnew_position\u001b[0m\u001b[0;34m[\u001b[0m\u001b[0;36m0\u001b[0m\u001b[0;34m]\u001b[0m\u001b[0;34m]\u001b[0m\u001b[0;34m[\u001b[0m\u001b[0mnew_position\u001b[0m\u001b[0;34m[\u001b[0m\u001b[0;36m1\u001b[0m\u001b[0;34m]\u001b[0m\u001b[0;34m]\u001b[0m\u001b[0;34m\u001b[0m\u001b[0;34m\u001b[0m\u001b[0m\n\u001b[0m\u001b[1;32m     40\u001b[0m            \u001b[0;32mif\u001b[0m \u001b[0;34m(\u001b[0m\u001b[0mrewardAll\u001b[0m\u001b[0;34m[\u001b[0m\u001b[0mi\u001b[0m\u001b[0;34m]\u001b[0m \u001b[0;34m>\u001b[0m \u001b[0mreward\u001b[0m\u001b[0;34m)\u001b[0m\u001b[0;34m:\u001b[0m\u001b[0;34m\u001b[0m\u001b[0;34m\u001b[0m\u001b[0m\n\u001b[1;32m     41\u001b[0m              \u001b[0maction\u001b[0m \u001b[0;34m=\u001b[0m \u001b[0mi\u001b[0m\u001b[0;34m\u001b[0m\u001b[0;34m\u001b[0m\u001b[0m\n",
            "\u001b[0;31mIndexError\u001b[0m: index 20 is out of bounds for axis 0 with size 16"
          ]
        }
      ],
      "source": [
        "#later make it as a section \"Q Learning\"\n",
        "reward = 0\n",
        "exploraion = 0\n",
        "exploitation = 0\n",
        "score = 0\n",
        "\n",
        "\n",
        "qtable = np.zeros((len(env.image.imagePixels), env.drone.action_space.n))\n",
        "\n",
        "# define hyperparameters ----------\n",
        "total_episodes = 500     # Total episodes\n",
        "learning_rate = 0.1# 0.01#0.00025#0.99#0.9           # Learning rate\n",
        "max_steps = 0#len(self.env.Image.imagePixels)              # Max steps per episode\n",
        "gamma = 0.95#0.75#0.99#0.85#0.75#0.99                  # Discounting rate\n",
        "\n",
        "# Exploration parameters\n",
        "epsilon = 1.0                 # Exploration rate\n",
        "max_epsilon = 1.0             # Exploration probability at start\n",
        "min_epsilon = 0.01            # Minimum exploration probability\n",
        "decay_rate = 0.00005#0.998#0.05#0.01#0.05#0.005             # Exponential decay rate for exploration prob\n",
        "# List of rewards\n",
        "\n",
        "\n",
        "for episode in range(1, total_episodes):\n",
        "    state = env.reset()\n",
        "    done = False\n",
        "    reward = 0\n",
        "    action = 0\n",
        "    score = 0\n",
        "    random.seed(3)\n",
        "    while not done:\n",
        "        exp_exp_tradeoff = random.uniform(0, 1) #random.uniform will return a float\n",
        "        ## If this number > greater than epsilon --> exploitation (taking the biggest Q value for this state)\n",
        "        if exp_exp_tradeoff > epsilon:\n",
        "            action = np.argmax(qtable[state,:])\n",
        "            exploitation += 1\n",
        "        # Else doing a random choice --> exploration\n",
        "        else:\n",
        "            action = env.drone.action_space.sample()\n",
        "            exploraion += 1\n",
        "        #print(f\"action={action}, on state = {state}\")\n",
        "        #print(action)\n",
        "        n_state, reward, done, info = env.step(action)\n",
        "        #print(f\"result:{n_state}, {reward}, {done}\")\n",
        "        #else:\n",
        "        #print(f\"new state:{n_state},with reward:{reward},done={done}\")\n",
        "        score+=reward\n",
        "        qtable[state, action] = qtable[state, action] + learning_rate * (reward + gamma * np.max(qtable[n_state, :]) - qtable[state, action])\n",
        "        state = n_state\n",
        "        #if score < -500:\n",
        "        #  done = True\n",
        "\n",
        "        #print(f\"q={qtable}\")\n",
        "    #print('Episode:{} Score:{}'.format(episode, score))\n",
        "\n",
        "    epsilon = min_epsilon + (max_epsilon - min_epsilon)*np.exp(-(decay_rate)*episode)\n",
        "\n",
        "#print(f\"q={qtable}\")\n",
        "print(f\"explor={exploraion},exploit={exploitation}\")\n",
        "print(f\"{len(env.navigation)}\")\n",
        "#print(f\"{env.previousstates}\")\n",
        "#print(f\"{env.navigation}\")"
      ]
    },
    {
      "cell_type": "code",
      "execution_count": null,
      "metadata": {
        "colab": {
          "base_uri": "https://localhost:8080/"
        },
        "id": "-4q18a0uMKdw",
        "outputId": "f96a2d58-130b-483f-e505-a75fb22bdc78"
      },
      "outputs": [
        {
          "name": "stdout",
          "output_type": "stream",
          "text": [
            "Mounted at /content/drive\n"
          ]
        }
      ],
      "source": [
        "from google.colab import drive\n",
        "drive.mount('/content/drive')"
      ]
    },
    {
      "cell_type": "code",
      "execution_count": null,
      "metadata": {
        "id": "-RPaM1Itbfq7"
      },
      "outputs": [],
      "source": [
        "import sys\n",
        "np.set_printoptions(threshold=sys.maxsize)\n",
        "#with np.printoptions(threshold=np.inf):\n",
        "    #print(qtable)\n",
        "with open('/content/drive/My Drive/foo2.txt', 'w') as f:\n",
        "  with np.printoptions(threshold=np.inf):\n",
        "    '''\n",
        "    for item in range (len(env.navigation)):\n",
        "          x = env.navigation[item][0]\n",
        "          y = env.navigation[item][1]\n",
        "          f.write(f\"pos:({x},{y}),pixelvalue:{ env.image.changedImage[x][y]}\\n\")\n",
        "    '''\n",
        "    for i in range (len(env.image.imagePixels)):\n",
        "      f.write(f\"pos:{env.image.imagePixels[i][0]},has values:{env.image.imagePixels[i][2]}\\n\")\n",
        "      '''\n",
        "      for j in range (len(qtable[i])):\n",
        "          #f.write(str(qtable))\n",
        "          f.write(f\"        values[{j}]:{qtable[i][j]}\\n\")\n",
        "\n",
        "      f.write(f\"            max = {np.argmax(qtable[env.image.imagePixels[i][0],:])}\\n\")\n",
        "      f.write(f\"            next_step = {env.navigation[i]}\\n\")\n",
        "      '''"
      ]
    },
    {
      "cell_type": "code",
      "execution_count": null,
      "metadata": {
        "id": "e0F9Yii6dfhr"
      },
      "outputs": [],
      "source": [
        "\n",
        "print(f\"{env.navigation}\")"
      ]
    },
    {
      "cell_type": "code",
      "execution_count": null,
      "metadata": {
        "id": "Xm-3Y997x_vk"
      },
      "outputs": [],
      "source": [
        "plt.grid()\n",
        "plt.plot(total_episodes,score)\n",
        "plt.title('Cost Function')\n",
        "plt.xlabel('Training Iterations')\n",
        "plt.ylabel('Cost')"
      ]
    },
    {
      "cell_type": "code",
      "execution_count": null,
      "metadata": {
        "colab": {
          "base_uri": "https://localhost:8080/",
          "height": 311
        },
        "id": "MQE0IO5HTdAc",
        "outputId": "2d3dc32d-e2d2-476f-8d31-16392e52cfec"
      },
      "outputs": [
        {
          "data": {
            "image/png": "[encoded data removed]",
            "text/plain": [
              "<Figure size 432x288 with 1 Axes>"
            ]
          },
          "metadata": {},
          "output_type": "display_data"
        }
      ],
      "source": [
        "plt.xlim(0, env.image.w-1)\n",
        "plt.ylim(0, env.image.h-1)\n",
        "\n",
        "x = env.image.w\n",
        "y = env.image.h\n",
        "im = cv2.rotate( env.image.image,cv2.cv2.ROTATE_90_COUNTERCLOCKWISE)\n",
        "for item in range (len(env.navigation)):\n",
        "      #for item1 in range (len(nav[item])):\n",
        "      #x = nav[item][item1][0]\n",
        "      #y = nav[item][item1][1]\n",
        "      x = env.navigation[item][0]\n",
        "      y = env.navigation[item][1]\n",
        "      plt.plot(x, y,scalex=True,scaley=True, marker=\"x\", markersize=5, markeredgecolor=\"blue\", markerfacecolor=\"green\")\n",
        "      #plt.savefig('/content/sample_data/plot1.png')\n",
        "\n",
        "#print(navigation)\n",
        "plt.grid(True)\n",
        "#plt.savefig('/content/sample_data/plot1.png')\n",
        "plt.imshow(env.image.image,origin='lower')#,vmin = 0, vmax = 255)\n",
        "plt.title('matplotlib.pyplot.grid() function Example\\n\\n', fontweight =\"bold\")\n",
        "plt.savefig('/content/sample_data/plot2.png')\n",
        "plt.show()"
      ]
    },
    {
      "cell_type": "markdown",
      "metadata": {
        "id": "9uesL7MA3JhE"
      },
      "source": [
        "# 2. Create a Deep Learning Model with Keras"
      ]
    },
    {
      "cell_type": "code",
      "execution_count": null,
      "metadata": {
        "id": "5CPikJLA3JhF"
      },
      "outputs": [],
      "source": [
        "import numpy as np\n",
        "from tensorflow.keras.models import Sequential\n",
        "from tensorflow.keras.layers import Dense, Flatten\n",
        "from tensorflow.keras.optimizers import Adam"
      ]
    },
    {
      "cell_type": "code",
      "execution_count": null,
      "metadata": {
        "id": "u6RUf7we3JhG"
      },
      "outputs": [],
      "source": [
        "states = env.observation_space.shape#np.array(env.observation_space.shape)\n",
        "states1 = env.observation_space.shape[0]\n",
        "actions = env.action_space.n\n",
        "\n",
        "tensor_state = tf.constant([[states]])\n",
        "tensor_action = tf.constant([[actions]])"
      ]
    },
    {
      "cell_type": "code",
      "execution_count": null,
      "metadata": {
        "colab": {
          "base_uri": "https://localhost:8080/"
        },
        "id": "KREyXp2j3JhH",
        "outputId": "125b7f64-401e-4c41-998f-78b969ce59c5"
      },
      "outputs": [
        {
          "name": "stdout",
          "output_type": "stream",
          "text": [
            "8\n",
            "(1, 15625)\n",
            "1\n",
            "tf.Tensor([[[    1 15625]]], shape=(1, 1, 2), dtype=int32)\n",
            "tf.Tensor([[8]], shape=(1, 1), dtype=int32)\n"
          ]
        }
      ],
      "source": [
        "print(actions)\n",
        "print(states)\n",
        "print(states1)\n",
        "\n",
        "print(tensor_state)\n",
        "print(tensor_action)"
      ]
    },
    {
      "cell_type": "code",
      "execution_count": null,
      "metadata": {
        "id": "lErkorhb3JhH"
      },
      "outputs": [],
      "source": [
        "def build_model(states, actions):\n",
        "\n",
        "    model = Sequential()\n",
        "    '''\n",
        "    model.add(Dense(24, activation='relu', batch_input_shape=states))#batch_input_shape=states))\n",
        "    #model.add(Flatten())\n",
        "    model.add(Dense(24, activation='relu'))\n",
        "    #model.add(Flatten())\n",
        "    model.add(Dense(actions, activation='linear'))\n",
        "    '''\n",
        "    model.add(Dense(64, input_dim = states , activation = 'relu'))\n",
        "    model.add(Dense(32, activation = 'relu'))\n",
        "    model.add(Dense(actions, activation = 'linear'))\n",
        "    model.compile(optimizer=Adam(), loss = 'mse')\n",
        "    return model"
      ]
    },
    {
      "cell_type": "code",
      "execution_count": null,
      "metadata": {
        "id": "hvm318XS3JhI"
      },
      "outputs": [],
      "source": [
        "del model"
      ]
    },
    {
      "cell_type": "code",
      "execution_count": null,
      "metadata": {
        "id": "lavFdvSt3JhO"
      },
      "outputs": [],
      "source": [
        "model = build_model(states1,actions)#(states, actions)"
      ]
    },
    {
      "cell_type": "code",
      "execution_count": null,
      "metadata": {
        "colab": {
          "base_uri": "https://localhost:8080/"
        },
        "id": "KhL6V8Qh3JhP",
        "outputId": "e7cf3c0d-4809-483c-eb4e-2ed061792364"
      },
      "outputs": [
        {
          "name": "stdout",
          "output_type": "stream",
          "text": [
            "Model: \"sequential_2\"\n",
            "_________________________________________________________________\n",
            " Layer (type)                Output Shape              Param #   \n",
            "=================================================================\n",
            " dense_6 (Dense)             (None, 64)                128       \n",
            "                                                                 \n",
            " dense_7 (Dense)             (None, 32)                2080      \n",
            "                                                                 \n",
            " dense_8 (Dense)             (None, 8)                 264       \n",
            "                                                                 \n",
            "=================================================================\n",
            "Total params: 2,472\n",
            "Trainable params: 2,472\n",
            "Non-trainable params: 0\n",
            "_________________________________________________________________\n"
          ]
        }
      ],
      "source": [
        "model.summary()"
      ]
    },
    {
      "cell_type": "markdown",
      "metadata": {
        "id": "pYsVgkjD3JhP"
      },
      "source": [
        "# 3. Build Agent with Keras-RL"
      ]
    },
    {
      "cell_type": "code",
      "execution_count": null,
      "metadata": {
        "id": "QUBXTwsa3JhQ"
      },
      "outputs": [],
      "source": [
        "from rl.agents import DQNAgent\n",
        "from rl.policy import BoltzmannQPolicy\n",
        "from rl.memory import SequentialMemory"
      ]
    },
    {
      "cell_type": "code",
      "execution_count": null,
      "metadata": {
        "id": "m9eY-FMF3JhQ"
      },
      "outputs": [],
      "source": [
        "def build_agent(model, actions):\n",
        "    policy = BoltzmannQPolicy()\n",
        "    memory = SequentialMemory(limit=10000, window_length=1)\n",
        "    dqn = DQNAgent(model=model, memory=memory, policy=policy,\n",
        "                  nb_actions=actions, nb_steps_warmup=10, target_model_update=1e-2)\n",
        "    return dqn"
      ]
    },
    {
      "cell_type": "code",
      "execution_count": null,
      "metadata": {
        "colab": {
          "base_uri": "https://localhost:8080/"
        },
        "id": "Nn87J2pnBO7K",
        "outputId": "24e7b7ae-6686-401f-b7f7-8523f2ae4e41"
      },
      "outputs": [
        {
          "name": "stdout",
          "output_type": "stream",
          "text": [
            "[<keras.layers.core.dense.Dense object at 0x7ff455a76290>, <keras.layers.core.dense.Dense object at 0x7ff455a7f050>, <keras.layers.core.dense.Dense object at 0x7ff455a05e10>]\n",
            "[<tf.Tensor 'dense_6_input:0' shape=(None, 1) dtype=float32>]\n",
            "1\n",
            "[<tf.Tensor 'dense_8/BiasAdd:0' shape=(None, 8) dtype=float32>]\n"
          ]
        }
      ],
      "source": [
        "layers = model.layers\n",
        "print(layers)\n",
        "inputs = model.inputs\n",
        "print(inputs)\n",
        "outputs = model.outputs\n",
        "print(len(outputs))\n",
        "print(outputs)"
      ]
    },
    {
      "cell_type": "code",
      "execution_count": null,
      "metadata": {
        "colab": {
          "base_uri": "https://localhost:8080/"
        },
        "id": "8MvJ0A5l3JhQ",
        "outputId": "e6842bf1-114a-40c8-f40e-748ecf1367ab"
      },
      "outputs": [
        {
          "name": "stderr",
          "output_type": "stream",
          "text": [
            "/usr/local/lib/python3.7/dist-packages/keras/optimizer_v2/adam.py:105: UserWarning: The `lr` argument is deprecated, use `learning_rate` instead.\n",
            "  super(Adam, self).__init__(name, **kwargs)\n"
          ]
        },
        {
          "name": "stdout",
          "output_type": "stream",
          "text": [
            "Training for 10000 steps ...\n",
            "Interval 1 (0 steps performed)\n",
            "\r    1/10000 [..............................] - ETA: 10:32 - reward: -500.0000"
          ]
        },
        {
          "name": "stderr",
          "output_type": "stream",
          "text": [
            "/usr/local/lib/python3.7/dist-packages/keras/engine/training_v1.py:2079: UserWarning: `Model.state_updates` will be removed in a future version. This property should not be used in TensorFlow 2.0, as `updates` are applied automatically.\n",
            "  updates=self.state_updates,\n",
            "/usr/local/lib/python3.7/dist-packages/rl/memory.py:37: UserWarning: Not enough entries to sample without replacement. Consider increasing your warm-up phase to avoid oversampling!\n",
            "  warnings.warn('Not enough entries to sample without replacement. Consider increasing your warm-up phase to avoid oversampling!')\n"
          ]
        },
        {
          "name": "stdout",
          "output_type": "stream",
          "text": [
            "10000/10000 [==============================] - 75s 7ms/step - reward: -496.8000\n",
            "done, took 74.511 seconds\n"
          ]
        },
        {
          "data": {
            "text/plain": [
              "<keras.callbacks.History at 0x7ff45594dc90>"
            ]
          },
          "execution_count": 101,
          "metadata": {},
          "output_type": "execute_result"
        }
      ],
      "source": [
        "dqn = build_agent(model, actions)\n",
        "dqn.compile(Adam(lr=1e-3), metrics=['mae'])\n",
        "dqn.fit(env, nb_steps=10000, visualize=False, verbose=1)"
      ]
    },
    {
      "cell_type": "code",
      "execution_count": null,
      "metadata": {
        "colab": {
          "base_uri": "https://localhost:8080/"
        },
        "id": "RYHx3CR33JhR",
        "outputId": "70f664a3-62d6-413a-abf9-5bea9b6471f0"
      },
      "outputs": [
        {
          "name": "stdout",
          "output_type": "stream",
          "text": [
            "Testing for 10 episodes ...\n",
            "Episode 1: reward: -62500.000, steps: 125\n",
            "Episode 2: reward: -62500.000, steps: 125\n",
            "Episode 3: reward: -62500.000, steps: 125\n",
            "Episode 4: reward: -62500.000, steps: 125\n",
            "Episode 5: reward: -62500.000, steps: 125\n",
            "Episode 6: reward: -62500.000, steps: 125\n",
            "Episode 7: reward: -62500.000, steps: 125\n",
            "Episode 8: reward: -62500.000, steps: 125\n",
            "Episode 9: reward: -62500.000, steps: 125\n",
            "Episode 10: reward: -62500.000, steps: 125\n",
            "-62500.0\n"
          ]
        }
      ],
      "source": [
        "scores = dqn.test(env, nb_episodes=10, visualize=False)\n",
        "#print(f\"{env.navigation}\")\n",
        "print(np.mean(scores.history['episode_reward']))\n"
      ]
    },
    {
      "cell_type": "code",
      "execution_count": null,
      "metadata": {
        "colab": {
          "base_uri": "https://localhost:8080/"
        },
        "id": "3n0tCzVL3JhR",
        "outputId": "12b102cf-afd9-4744-e34b-229e4d1b96f0"
      },
      "outputs": [
        {
          "name": "stdout",
          "output_type": "stream",
          "text": [
            "Testing for 5 episodes ...\n",
            "Episode 1: reward: -62500.000, steps: 125\n",
            "Episode 2: reward: -62500.000, steps: 125\n",
            "Episode 3: reward: -62500.000, steps: 125\n",
            "Episode 4: reward: -62500.000, steps: 125\n",
            "Episode 5: reward: -62500.000, steps: 125\n"
          ]
        }
      ],
      "source": [
        "_ = dqn.test(env, nb_episodes=5, visualize=False)\n"
      ]
    },
    {
      "cell_type": "code",
      "execution_count": null,
      "metadata": {
        "colab": {
          "base_uri": "https://localhost:8080/",
          "height": 349
        },
        "id": "oxRzVgRaDzCY",
        "outputId": "c5d95e80-128a-4525-e8b9-8c9470e48a43"
      },
      "outputs": [
        {
          "name": "stdout",
          "output_type": "stream",
          "text": [
            "[(14, 0), (15, 1), (16, 2), (17, 3), (18, 4), (19, 5), (20, 6), (21, 7), (22, 8), (23, 9), (24, 10), (25, 11), (26, 12), (27, 13), (28, 14), (29, 15), (30, 16), (31, 17), (32, 18), (33, 19), (34, 20), (35, 21), (36, 22), (37, 23), (38, 24), (39, 25), (40, 26), (41, 27), (42, 28), (43, 29), (44, 30), (45, 31), (46, 32), (47, 33), (48, 34), (49, 35), (50, 36), (51, 37), (52, 38), (53, 39), (54, 40), (55, 41), (56, 42), (57, 43), (58, 44), (59, 45), (60, 46), (61, 47), (62, 48), (63, 49), (64, 50), (65, 51), (66, 52), (67, 53), (68, 54), (69, 55), (70, 56), (71, 57), (72, 58), (73, 59), (74, 60), (75, 61), (76, 62), (77, 63), (78, 64), (79, 65), (80, 66), (81, 67), (82, 68), (83, 69), (84, 70), (85, 71), (86, 72), (87, 73), (88, 74), (89, 75), (90, 76), (91, 77), (92, 78), (93, 79), (94, 80), (95, 81), (96, 82), (97, 83), (98, 84), (99, 85), (100, 86), (101, 87), (102, 88), (103, 89), (104, 90), (105, 91), (106, 92), (107, 93), (108, 94), (109, 95), (110, 96), (111, 97), (112, 98), (113, 99), (114, 100), (115, 101), (116, 102), (117, 103), (118, 104), (119, 105), (120, 106), (121, 107), (122, 108), (123, 109), (124, 110), (124, 111), (124, 112), (124, 113), (124, 114), (124, 115), (124, 116), (124, 117), (124, 118), (124, 119), (124, 120), (124, 121), (124, 122), (124, 123), (124, 124)]\n"
          ]
        },
        {
          "data": {
            "image/png": "[encoded data removed]",
            "text/plain": [
              "<Figure size 432x288 with 1 Axes>"
            ]
          },
          "metadata": {},
          "output_type": "display_data"
        }
      ],
      "source": [
        "plt.xlim(0, env.image.w)\n",
        "plt.ylim(0, env.image.h)\n",
        "print(f\"{env.navigation}\")\n",
        "x = env.image.w\n",
        "y = env.image.h\n",
        "\n",
        "for item in range (len(env.navigation)):\n",
        "      x = env.navigation[item][0]\n",
        "      y = env.navigation[item][1]\n",
        "      plt.plot(x, y,scalex=True,scaley=True, marker=\"x\", markersize=5, markeredgecolor=\"blue\", markerfacecolor=\"green\")\n",
        "\n",
        "#print(navigation)\n",
        "plt.grid(True)\n",
        "plt.imshow(env.image.image,cmap='gray', vmin = 0, vmax = 255)\n",
        "plt.title('matplotlib.pyplot.grid() function Example\\n\\n', fontweight =\"bold\")\n",
        "#plt.savefig('/content/sample_data/plot.png')\n",
        "plt.show()"
      ]
    },
    {
      "cell_type": "markdown",
      "metadata": {
        "id": "QjUK8fqJ3JhR"
      },
      "source": [
        "# 4. Reloading Agent from Memory"
      ]
    },
    {
      "cell_type": "code",
      "execution_count": null,
      "metadata": {
        "id": "b2knZd_d3JhS"
      },
      "outputs": [],
      "source": [
        "dqn.save_weights('dqn_weights.h5f', overwrite=True)"
      ]
    },
    {
      "cell_type": "code",
      "execution_count": null,
      "metadata": {
        "id": "I2hPyHWN3JhS"
      },
      "outputs": [],
      "source": [
        "del model\n",
        "del dqn\n",
        "del env"
      ]
    },
    {
      "cell_type": "code",
      "execution_count": null,
      "metadata": {
        "id": "nql3vHO73JhS"
      },
      "outputs": [],
      "source": [
        "env = gym.make('CartPole-v0')\n",
        "actions = env.action_space.n\n",
        "states = env.observation_space.shape[0]\n",
        "model = build_model(states, actions)\n",
        "dqn = build_agent(model, actions)\n",
        "dqn.compile(Adam(lr=1e-3), metrics=['mae'])"
      ]
    },
    {
      "cell_type": "code",
      "execution_count": null,
      "metadata": {
        "colab": {
          "base_uri": "https://localhost:8080/",
          "height": 325
        },
        "id": "4Zxqypco3JhS",
        "outputId": "266104de-53f2-4475-f510-deb3a3745c63"
      },
      "outputs": [
        {
          "ename": "ValueError",
          "evalue": "ignored",
          "output_type": "error",
          "traceback": [
            "\u001b[0;31m---------------------------------------------------------------------------\u001b[0m",
            "\u001b[0;31mValueError\u001b[0m                                Traceback (most recent call last)",
            "\u001b[0;32m<ipython-input-48-c09cb48d63b4>\u001b[0m in \u001b[0;36m<module>\u001b[0;34m()\u001b[0m\n\u001b[0;32m----> 1\u001b[0;31m \u001b[0mdqn\u001b[0m\u001b[0;34m.\u001b[0m\u001b[0mload_weights\u001b[0m\u001b[0;34m(\u001b[0m\u001b[0;34m'dqn_weights.h5f'\u001b[0m\u001b[0;34m)\u001b[0m\u001b[0;34m\u001b[0m\u001b[0;34m\u001b[0m\u001b[0m\n\u001b[0m",
            "\u001b[0;32m/usr/local/lib/python3.7/dist-packages/rl/agents/dqn.py\u001b[0m in \u001b[0;36mload_weights\u001b[0;34m(self, filepath)\u001b[0m\n\u001b[1;32m    204\u001b[0m     \u001b[0;32mdef\u001b[0m \u001b[0mload_weights\u001b[0m\u001b[0;34m(\u001b[0m\u001b[0mself\u001b[0m\u001b[0;34m,\u001b[0m \u001b[0mfilepath\u001b[0m\u001b[0;34m)\u001b[0m\u001b[0;34m:\u001b[0m\u001b[0;34m\u001b[0m\u001b[0;34m\u001b[0m\u001b[0m\n\u001b[1;32m    205\u001b[0m         \u001b[0mself\u001b[0m\u001b[0;34m.\u001b[0m\u001b[0mmodel\u001b[0m\u001b[0;34m.\u001b[0m\u001b[0mload_weights\u001b[0m\u001b[0;34m(\u001b[0m\u001b[0mfilepath\u001b[0m\u001b[0;34m)\u001b[0m\u001b[0;34m\u001b[0m\u001b[0;34m\u001b[0m\u001b[0m\n\u001b[0;32m--> 206\u001b[0;31m         \u001b[0mself\u001b[0m\u001b[0;34m.\u001b[0m\u001b[0mupdate_target_model_hard\u001b[0m\u001b[0;34m(\u001b[0m\u001b[0;34m)\u001b[0m\u001b[0;34m\u001b[0m\u001b[0;34m\u001b[0m\u001b[0m\n\u001b[0m\u001b[1;32m    207\u001b[0m \u001b[0;34m\u001b[0m\u001b[0m\n\u001b[1;32m    208\u001b[0m     \u001b[0;32mdef\u001b[0m \u001b[0msave_weights\u001b[0m\u001b[0;34m(\u001b[0m\u001b[0mself\u001b[0m\u001b[0;34m,\u001b[0m \u001b[0mfilepath\u001b[0m\u001b[0;34m,\u001b[0m \u001b[0moverwrite\u001b[0m\u001b[0;34m=\u001b[0m\u001b[0;32mFalse\u001b[0m\u001b[0;34m)\u001b[0m\u001b[0;34m:\u001b[0m\u001b[0;34m\u001b[0m\u001b[0;34m\u001b[0m\u001b[0m\n",
            "\u001b[0;32m/usr/local/lib/python3.7/dist-packages/rl/agents/dqn.py\u001b[0m in \u001b[0;36mupdate_target_model_hard\u001b[0;34m(self)\u001b[0m\n\u001b[1;32m    217\u001b[0m \u001b[0;34m\u001b[0m\u001b[0m\n\u001b[1;32m    218\u001b[0m     \u001b[0;32mdef\u001b[0m \u001b[0mupdate_target_model_hard\u001b[0m\u001b[0;34m(\u001b[0m\u001b[0mself\u001b[0m\u001b[0;34m)\u001b[0m\u001b[0;34m:\u001b[0m\u001b[0;34m\u001b[0m\u001b[0;34m\u001b[0m\u001b[0m\n\u001b[0;32m--> 219\u001b[0;31m         \u001b[0mself\u001b[0m\u001b[0;34m.\u001b[0m\u001b[0mtarget_model\u001b[0m\u001b[0;34m.\u001b[0m\u001b[0mset_weights\u001b[0m\u001b[0;34m(\u001b[0m\u001b[0mself\u001b[0m\u001b[0;34m.\u001b[0m\u001b[0mmodel\u001b[0m\u001b[0;34m.\u001b[0m\u001b[0mget_weights\u001b[0m\u001b[0;34m(\u001b[0m\u001b[0;34m)\u001b[0m\u001b[0;34m)\u001b[0m\u001b[0;34m\u001b[0m\u001b[0;34m\u001b[0m\u001b[0m\n\u001b[0m\u001b[1;32m    220\u001b[0m \u001b[0;34m\u001b[0m\u001b[0m\n\u001b[1;32m    221\u001b[0m     \u001b[0;32mdef\u001b[0m \u001b[0mforward\u001b[0m\u001b[0;34m(\u001b[0m\u001b[0mself\u001b[0m\u001b[0;34m,\u001b[0m \u001b[0mobservation\u001b[0m\u001b[0;34m)\u001b[0m\u001b[0;34m:\u001b[0m\u001b[0;34m\u001b[0m\u001b[0;34m\u001b[0m\u001b[0m\n",
            "\u001b[0;32m/usr/local/lib/python3.7/dist-packages/tensorflow/python/keras/engine/base_layer_v1.py\u001b[0m in \u001b[0;36mset_weights\u001b[0;34m(self, weights)\u001b[0m\n\u001b[1;32m   1303\u001b[0m           raise ValueError(\n\u001b[1;32m   1304\u001b[0m               \u001b[0;34m'Layer weight shape %s not compatible with provided weight '\u001b[0m\u001b[0;34m\u001b[0m\u001b[0;34m\u001b[0m\u001b[0m\n\u001b[0;32m-> 1305\u001b[0;31m               'shape %s' % (ref_shape, weight.shape))\n\u001b[0m\u001b[1;32m   1306\u001b[0m         \u001b[0mweight_value_tuples\u001b[0m\u001b[0;34m.\u001b[0m\u001b[0mappend\u001b[0m\u001b[0;34m(\u001b[0m\u001b[0;34m(\u001b[0m\u001b[0mparam\u001b[0m\u001b[0;34m,\u001b[0m \u001b[0mweight\u001b[0m\u001b[0;34m)\u001b[0m\u001b[0;34m)\u001b[0m\u001b[0;34m\u001b[0m\u001b[0;34m\u001b[0m\u001b[0m\n\u001b[1;32m   1307\u001b[0m         \u001b[0mweight_index\u001b[0m \u001b[0;34m+=\u001b[0m \u001b[0;36m1\u001b[0m\u001b[0;34m\u001b[0m\u001b[0;34m\u001b[0m\u001b[0m\n",
            "\u001b[0;31mValueError\u001b[0m: Layer weight shape (4, 64) not compatible with provided weight shape (1, 64)"
          ]
        }
      ],
      "source": [
        "dqn.load_weights('dqn_weights.h5f')"
      ]
    },
    {
      "cell_type": "code",
      "execution_count": null,
      "metadata": {
        "id": "bZkH6n7J3JhT",
        "outputId": "907962cf-139c-452c-a3fd-c9333333e013"
      },
      "outputs": [
        {
          "name": "stdout",
          "output_type": "stream",
          "text": [
            "Testing for 5 episodes ...\n",
            "WARNING:tensorflow:From /Users/nicholasrenotte/opt/anaconda3/lib/python3.7/site-packages/tensorflow/python/keras/engine/training_v1.py:2070: Model.state_updates (from tensorflow.python.keras.engine.training) is deprecated and will be removed in a future version.\n",
            "Instructions for updating:\n",
            "This property should not be used in TensorFlow 2.0, as updates are applied automatically.\n",
            "Episode 1: reward: 200.000, steps: 200\n",
            "Episode 2: reward: 200.000, steps: 200\n",
            "Episode 3: reward: 200.000, steps: 200\n",
            "Episode 4: reward: 200.000, steps: 200\n",
            "Episode 5: reward: 200.000, steps: 200\n"
          ]
        }
      ],
      "source": [
        "_ = dqn.test(env, nb_episodes=5, visualize=True)"
      ]
    },
    {
      "cell_type": "code",
      "execution_count": null,
      "metadata": {
        "id": "MNCFmUUn3JhT"
      },
      "outputs": [],
      "source": []
    },
    {
      "cell_type": "markdown",
      "metadata": {
        "id": "mr9qLOFzMVBj"
      },
      "source": [
        "# **My Deep Learning**\n"
      ]
    },
    {
      "cell_type": "code",
      "execution_count": null,
      "metadata": {
        "id": "g6cHnIlRMcsr"
      },
      "outputs": [],
      "source": [
        "import sys\n",
        "import gym\n",
        "import torch\n",
        "import pylab\n",
        "import random\n",
        "import numpy as np\n",
        "from collections import deque\n",
        "import torch.nn as nn\n",
        "import torch.optim as optim\n",
        "import torch.nn.functional as F\n",
        "from torch.autograd import Variable\n",
        "from torchvision import transforms"
      ]
    },
    {
      "cell_type": "code",
      "source": [
        "device = torch.device('cuda' if torch.cuda.is_available() else 'cpu')\n",
        "agent.to(device)"
      ],
      "metadata": {
        "id": "H8Q8G_N5QWe-"
      },
      "execution_count": null,
      "outputs": []
    },
    {
      "cell_type": "code",
      "execution_count": null,
      "metadata": {
        "id": "vfaJU8DZaa0g"
      },
      "outputs": [],
      "source": [
        "\n",
        "# approximate Q function using Neural Network\n",
        "# state is input and Q Value of each action is output of network\n",
        "class DQN(nn.Module):\n",
        "    def __init__(self, state_size, action_size):\n",
        "        super(DQN, self).__init__()\n",
        "        self.fc = nn.Sequential(\n",
        "            nn.Linear(state_size, 24),\n",
        "            nn.ReLU(),\n",
        "            nn.Linear(24, 24),\n",
        "            nn.ReLU(),\n",
        "            nn.Linear(24, action_size)\n",
        "        )\n",
        "\n",
        "    def forward(self, x):\n",
        "        return self.fc(x)\n",
        "\n",
        "\n",
        "# Define the transformer-based agent\n",
        "class TransformerAgent(nn.Module):\n",
        "    def __init__(self, input_size, output_size):\n",
        "        super().__init__()\n",
        "        self.encoder_layer = nn.TransformerEncoderLayer(d_model=input_size, nhead=4)\n",
        "        self.encoder = nn.TransformerEncoder(self.encoder_layer, num_layers=6)\n",
        "        self.fc1 = nn.Linear(input_size, 128)\n",
        "        self.fc2 = nn.Linear(128, output_size)\n",
        "\n",
        "    def forward(self, x):\n",
        "        x = self.encoder(x)\n",
        "        x = F.relu(self.fc1(x))\n",
        "        x = self.fc2(x)\n",
        "        return x"
      ]
    },
    {
      "cell_type": "code",
      "execution_count": null,
      "metadata": {
        "id": "BGdsyzqvaj2T"
      },
      "outputs": [],
      "source": [
        "# DQN Agent for the Cartpole\n",
        "# it uses Neural Network to approximate q function\n",
        "# and replay memory & target q network\n",
        "class DQNAgent():\n",
        "    def __init__(self, state_size, action_size):\n",
        "        # if you want to see Cartpole learning, then change to True\n",
        "        self.render = False\n",
        "        self.load_model = False\n",
        "\n",
        "        # get size of state and action\n",
        "        self.state_size = state_size\n",
        "        self.action_size = action_size\n",
        "\n",
        "        # These are hyper parameters for the DQN\n",
        "        self.discount_factor = 0.99\n",
        "        self.learning_rate = 0.4#0.001\n",
        "        self.memory_size = 20000\n",
        "        self.epsilon = 1.0\n",
        "        self.epsilon_min = 0.01\n",
        "        self.explore_step = 5000\n",
        "        self.epsilon_decay = (self.epsilon - self.epsilon_min) / self.explore_step\n",
        "        self.batch_size = 64\n",
        "        self.train_start = 1000\n",
        "\n",
        "        # create replay memory using deque\n",
        "        self.memory = deque(maxlen=self.memory_size)\n",
        "\n",
        "        # create main model and target model\n",
        "        self.model = DQN(state_size, action_size)\n",
        "        self.model.apply(self.weights_init)\n",
        "        self.target_model = DQN(state_size, action_size)\n",
        "        self.optimizer = optim.Adam(self.model.parameters(),\n",
        "                                    lr=self.learning_rate)\n",
        "\n",
        "        # initialize target model\n",
        "        self.update_target_model()\n",
        "\n",
        "        if self.load_model:\n",
        "            self.model = torch.load('save_model/cartpole_dqn')\n",
        "\n",
        "    # weight xavier initialize\n",
        "    def weights_init(self, m):\n",
        "        classname = m.__class__.__name__\n",
        "        if classname.find('Linear') != -1:\n",
        "            torch.nn.init.xavier_uniform(m.weight)\n",
        "\n",
        "    # after some time interval update the target model to be same with model\n",
        "    def update_target_model(self):\n",
        "        self.target_model.load_state_dict(self.model.state_dict())\n",
        "\n",
        "    #  get action from model using epsilon-greedy policy\n",
        "    def get_action(self, state):\n",
        "        if np.random.rand() <= self.epsilon:\n",
        "            return random.randrange(self.action_size)\n",
        "        else:\n",
        "            state = torch.from_numpy(state)\n",
        "            state = Variable(state).float().cpu()\n",
        "            q_value = self.model(state)\n",
        "            #if q_value.shape ==1:\n",
        "            q_value = torch.reshape(q_value, [1,5])\n",
        "            #print(f\"state:{state},q_value:{q_value},shapes:state:{state.shape},qvalue:{q_value.shape},qvalue size:{q_value.size}\")\n",
        "            #print(f\"max:{torch.max(q_value,1)}\")\n",
        "            _, action = torch.max(q_value,1,)# 1)\n",
        "\n",
        "            return int(action)\n",
        "\n",
        "    # save sample <s,a,r,s'> to the replay memory\n",
        "    def append_sample(self, state, action, reward, next_state, done):\n",
        "        self.memory.append((state, action, reward, next_state, done))\n",
        "\n",
        "    # pick samples randomly from replay memory (with batch_size)\n",
        "    def train_model(self):\n",
        "        if self.epsilon > self.epsilon_min:\n",
        "            self.epsilon -= self.epsilon_decay\n",
        "\n",
        "        mini_batch = random.sample(self.memory, self.batch_size)\n",
        "        mini_batch = np.array(mini_batch,dtype=object).transpose()\n",
        "\n",
        "        states = np.vstack(mini_batch[0])\n",
        "        actions = list(mini_batch[1])\n",
        "        rewards = list(mini_batch[2])\n",
        "        next_states = np.vstack(mini_batch[3])\n",
        "        dones = mini_batch[4]\n",
        "\n",
        "        # bool to binary\n",
        "        dones = dones.astype(int)\n",
        "\n",
        "        # Q function of current state\n",
        "        states = torch.Tensor(states)\n",
        "        states = Variable(states).float()\n",
        "        pred = self.model(states)\n",
        "\n",
        "        # one-hot encoding\n",
        "        a = torch.LongTensor(actions).view(-1, 1)\n",
        "\n",
        "        one_hot_action = torch.FloatTensor(self.batch_size, self.action_size).zero_()\n",
        "        one_hot_action.scatter_(1, a, 1)\n",
        "\n",
        "        pred = torch.sum(pred.mul(Variable(one_hot_action)), dim=1)\n",
        "\n",
        "        # Q function of next state\n",
        "        next_states = torch.Tensor(next_states)\n",
        "        next_states = Variable(next_states).float()\n",
        "        next_pred = self.target_model(next_states).data\n",
        "\n",
        "        rewards = torch.FloatTensor(rewards)\n",
        "        dones = torch.FloatTensor(dones)\n",
        "\n",
        "        # Q Learning: get maximum Q value at s' from target model\n",
        "        target = rewards + (1 - dones) * self.discount_factor * next_pred.max(1)[0]\n",
        "        target = Variable(target)\n",
        "\n",
        "        self.optimizer.zero_grad()\n",
        "\n",
        "        # MSE Loss function\n",
        "        loss = F.mse_loss(pred,target)\n",
        "        loss.backward()\n",
        "\n",
        "        # and train\n",
        "        self.optimizer.step()"
      ]
    },
    {
      "cell_type": "markdown",
      "source": [
        "# My Deep learning with transform"
      ],
      "metadata": {
        "id": "nPgl9OdBBgBb"
      }
    },
    {
      "cell_type": "code",
      "source": [
        "from google.colab import drive\n",
        "drive.mount('/content/gdrive/', force_remount=True)"
      ],
      "metadata": {
        "colab": {
          "base_uri": "https://localhost:8080/"
        },
        "id": "gnsZG-9ftboz",
        "outputId": "3a9bc01b-09d7-464c-fc00-ea7350fac4a8"
      },
      "execution_count": 2,
      "outputs": [
        {
          "output_type": "stream",
          "name": "stdout",
          "text": [
            "Mounted at /content/gdrive/\n"
          ]
        }
      ]
    },
    {
      "cell_type": "code",
      "source": [
        "#print(len(M_peices))\n",
        "#print(M_peices)\n",
        "!mkdir /content/sample_data/image\n",
        "!mkdir /content/sample_data/result\n"
      ],
      "metadata": {
        "id": "x5G-VBY-F0Ex"
      },
      "execution_count": null,
      "outputs": []
    },
    {
      "cell_type": "code",
      "source": [
        "!rm  -r /content/sample_data/image/\n",
        "!rm  -r /content/sample_data/result/\n"
      ],
      "metadata": {
        "id": "VzT7BB9n42wv"
      },
      "execution_count": null,
      "outputs": []
    },
    {
      "cell_type": "code",
      "source": [
        "torch.cuda.is_available()"
      ],
      "metadata": {
        "id": "rrKsFzy-VpvM"
      },
      "execution_count": null,
      "outputs": []
    },
    {
      "cell_type": "code",
      "source": [
        "!zip -r /content/data.zip /content/sample_data/image /content/sample_data/result"
      ],
      "metadata": {
        "id": "-FD2UGgDCXoz"
      },
      "execution_count": null,
      "outputs": []
    },
    {
      "cell_type": "code",
      "source": [
        "#this will not split the image as needed.don't run it\n",
        "IMAGE_PATH = '/content/gdrive/MyDrive/map.png'\n",
        "#IMAGE_PATH = '/content/sample_data/mapp.png'\n",
        "im = Image.open(IMAGE_PATH)\n",
        "WIDTH, HEIGHT = im.size\n",
        "\n",
        "NUM_PEICES = 10\n",
        "RATIO = WIDTH/HEIGHT\n",
        "\n",
        "WIDTHCROP = int(WIDTH/NUM_PEICES)\n",
        "HEIGHTCROP = int(WIDTHCROP//RATIO) # // is for dividing float\n",
        "#HEIGHTCROP = int(WIDTH//NUM_PEICES) # // is for dividing float\n",
        "\n",
        "ROWS = int(WIDTH// WIDTHCROP) #so we can get the number of rows we want\n",
        "COLUMNS = int(HEIGHT // HEIGHTCROP)\n",
        "\n",
        "print(f\"{HEIGHT},{WIDTH},{ROWS},{COLUMNS},{WIDTHCROP},{HEIGHTCROP}\")\n",
        "M_peices = MatrixOfPeices(IMAGE_PATH,HEIGHTCROP,WIDTHCROP,NUM_PEICES,ROWS,COLUMNS)"
      ],
      "metadata": {
        "id": "CLY6FQQxKsDZ"
      },
      "execution_count": null,
      "outputs": []
    },
    {
      "cell_type": "code",
      "source": [
        "import glob\n",
        "#add all peices to an array\n",
        "tiles = glob.glob('/content/gdrive/MyDrive/map_*')\n",
        "#tiles"
      ],
      "metadata": {
        "id": "BzNOUqZj4VCa"
      },
      "execution_count": null,
      "outputs": []
    },
    {
      "cell_type": "code",
      "execution_count": 28,
      "metadata": {
        "id": "6QKqciCDapJx",
        "colab": {
          "base_uri": "https://localhost:8080/",
          "height": 271
        },
        "outputId": "f14fb505-6746-42d5-ea50-68bb96df8ff4"
      },
      "outputs": [
        {
          "output_type": "stream",
          "name": "stdout",
          "text": [
            "/content/gdrive/MyDrive/map_01_02.png\n",
            "episode length:5448975\n"
          ]
        },
        {
          "output_type": "error",
          "ename": "NameError",
          "evalue": "ignored",
          "traceback": [
            "\u001b[0;31m---------------------------------------------------------------------------\u001b[0m",
            "\u001b[0;31mNameError\u001b[0m                                 Traceback (most recent call last)",
            "\u001b[0;32m<ipython-input-28-4a30ecdc72a5>\u001b[0m in \u001b[0;36m<cell line: 2>\u001b[0;34m()\u001b[0m\n\u001b[1;32m     15\u001b[0m       \u001b[0maction_size\u001b[0m \u001b[0;34m=\u001b[0m \u001b[0menv\u001b[0m\u001b[0;34m.\u001b[0m\u001b[0maction_space\u001b[0m\u001b[0;34m.\u001b[0m\u001b[0mn\u001b[0m\u001b[0;34m\u001b[0m\u001b[0;34m\u001b[0m\u001b[0m\n\u001b[1;32m     16\u001b[0m       \u001b[0mstate\u001b[0m \u001b[0;34m=\u001b[0m \u001b[0mnp\u001b[0m\u001b[0;34m.\u001b[0m\u001b[0mreshape\u001b[0m\u001b[0;34m(\u001b[0m\u001b[0mstate\u001b[0m\u001b[0;34m,\u001b[0m \u001b[0;34m[\u001b[0m\u001b[0;36m1\u001b[0m\u001b[0;34m,\u001b[0m \u001b[0mstate_size\u001b[0m\u001b[0;34m]\u001b[0m\u001b[0;34m)\u001b[0m\u001b[0;34m\u001b[0m\u001b[0;34m\u001b[0m\u001b[0m\n\u001b[0;32m---> 17\u001b[0;31m       \u001b[0magent\u001b[0m \u001b[0;34m=\u001b[0m \u001b[0mDQNAgent\u001b[0m\u001b[0;34m(\u001b[0m\u001b[0mstate_size\u001b[0m\u001b[0;34m,\u001b[0m \u001b[0maction_size\u001b[0m\u001b[0;34m)\u001b[0m\u001b[0;34m\u001b[0m\u001b[0;34m\u001b[0m\u001b[0m\n\u001b[0m\u001b[1;32m     18\u001b[0m       \u001b[0;31m#print(f\"states available:{state}\")\u001b[0m\u001b[0;34m\u001b[0m\u001b[0;34m\u001b[0m\u001b[0m\n\u001b[1;32m     19\u001b[0m       \u001b[0;32mfor\u001b[0m \u001b[0me\u001b[0m \u001b[0;32min\u001b[0m \u001b[0mrange\u001b[0m\u001b[0;34m(\u001b[0m\u001b[0mTRAIN_EPISODES\u001b[0m\u001b[0;34m)\u001b[0m\u001b[0;34m:\u001b[0m\u001b[0;34m\u001b[0m\u001b[0;34m\u001b[0m\u001b[0m\n",
            "\u001b[0;31mNameError\u001b[0m: name 'DQNAgent' is not defined"
          ]
        }
      ],
      "source": [
        "from datetime import datetime\n",
        "if __name__ == \"__main__\":\n",
        "    state = 0\n",
        "    TRAIN_EPISODES = 50\n",
        "    for p in M_peices:\n",
        "      print(p)\n",
        "      image = cv2.imread(p)\n",
        "      #image = cv2.imread(p[0])\n",
        "      env = ShowerEnv(image)\n",
        "\n",
        "      #env.image.imagePixels = env.image.LoadPeiceOfArray(env.defaultposition)\n",
        "      env.observation_space =  env.image.GetAllImageState()\n",
        "\n",
        "      state_size = env.observation_space.shape[0]\n",
        "      action_size = env.action_space.n\n",
        "      state = np.reshape(state, [1, state_size])\n",
        "      agent = DQNAgent(state_size, action_size)\n",
        "      #print(f\"states available:{state}\")\n",
        "      for e in range(TRAIN_EPISODES):\n",
        "        starttime = datetime.now();\n",
        "        #print(f\"episode:{e}\")\n",
        "        done = False\n",
        "        score = 0\n",
        "        state = state[0]\n",
        "        env.reset()\n",
        "        #env.episode_length = len(env.image.imagePixels)\n",
        "        #print(f\"state:{state}\\nand episode is:{env.episode_length}\")\n",
        "        while not done:\n",
        "\n",
        "          action = agent.get_action(state)\n",
        "\n",
        "          next_state, reward, done, info = env.step(action)\n",
        "          #print(f\"training:new_state{next_state},and reward:{reward}\")\n",
        "          next_state = np.reshape(next_state, [1, state_size])\n",
        "\n",
        "          # if an action make the episode end, then gives penalty of -100\n",
        "          #reward = reward if not done or score == 499 else -10\n",
        "\n",
        "          # save the sample <s, a, r, s'> to the replay memory\n",
        "          agent.append_sample(state, action, reward, next_state, done)\n",
        "          # every time step do the training\n",
        "          if len(agent.memory) >= agent.train_start:\n",
        "              agent.train_model()\n",
        "          #for path in M_peices:\n",
        "          #  for i in range (len(path)):\n",
        "          #    image = cv2.imread(path[i])\n",
        "\n",
        "              #print(image.size)\n",
        "              #print(f\"image width for {path[i]} = {image.shape}\")\n",
        "          score += reward\n",
        "          state = next_state\n",
        "          #if current_index == (5,5):\n",
        "          #  b_Istravel = False\n",
        "          if done:\n",
        "              # every episode update the target model to be same with model\n",
        "              agent.update_target_model()\n",
        "              print(f\"Time for one episode:{datetime.now()-starttime}\")\n",
        "              #print(f\"navi:{env.navigation}\")\n",
        "      PlottingMap(env, p[p.rindex(\"/\")+1:p.find(\".png\")])\n"
      ]
    },
    {
      "cell_type": "code",
      "execution_count": null,
      "metadata": {
        "id": "2Yi1aug5gV5S"
      },
      "outputs": [],
      "source": [
        "print(f\"{len(env.navigation)}\")\n",
        "print(f\"{env.navigation}\")"
      ]
    },
    {
      "cell_type": "code",
      "source": [
        "p = torch.randn([2, 3])\n",
        "print(p)\n",
        "print(p.shape)"
      ],
      "metadata": {
        "colab": {
          "base_uri": "https://localhost:8080/"
        },
        "id": "bCp5sHpbvMlZ",
        "outputId": "ff282ae2-32da-4722-f736-e3db52cbd308"
      },
      "execution_count": null,
      "outputs": [
        {
          "output_type": "stream",
          "name": "stdout",
          "text": [
            "tensor([[-0.5319,  0.2878,  0.0240],\n",
            "        [-1.3424, -0.6575,  2.1077]])\n",
            "torch.Size([2, 3])\n"
          ]
        }
      ]
    },
    {
      "cell_type": "markdown",
      "source": [
        "# **Transformer RL**\n"
      ],
      "metadata": {
        "id": "N8uHYcyNBZ4X"
      }
    },
    {
      "cell_type": "code",
      "source": [
        "import gym\n",
        "import torch\n",
        "import torch.nn as nn\n",
        "import torch.nn.functional as F\n",
        "import random\n",
        "\n",
        "# Define the environment\n",
        "#env = gym.make('Taxi-v3')\n",
        "#num_states = env.observation_space.n\n",
        "#num_actions = env.action_space.n\n",
        "device = torch.device('cuda' if torch.cuda.is_available() else 'cpu')\n",
        "\n",
        "\n",
        "# Define the transformer-based agent\n",
        "class TransformerAgent(nn.Module):\n",
        "    def __init__(self, input_size, output_size):\n",
        "        super().__init__()\n",
        "        self.encoder_layer = nn.TransformerEncoderLayer(d_model=input_size, nhead=1)#4\n",
        "        self.encoder = nn.TransformerEncoder(self.encoder_layer, num_layers=6)\n",
        "        self.fc1 = nn.Linear(input_size, 128)\n",
        "        self.fc2 = nn.Linear(128, output_size)\n",
        "\n",
        "    def forward(self, x):\n",
        "        x = self.encoder(x)\n",
        "        x = F.relu(self.fc1(x))\n",
        "        x = self.fc2(x)\n",
        "        return x\n",
        "\n",
        "# Define the Q-learning algorithm\n",
        "def q_learning(num_episodes,num_states, num_actions, gamma=0.99, lr=0.001):\n",
        "    agent = TransformerAgent(num_states, num_actions)\n",
        "    agent.to(device)\n",
        "    optimizer = torch.optim.Adam(agent.parameters(), lr=lr)\n",
        "    criterion = nn.MSELoss()\n",
        "\n",
        "    #print(agent.fc1.weight.dtype)\n",
        "    #print(agent.fc2.weight.dtype)\n",
        "\n",
        "    for episode in range(num_episodes):\n",
        "        state = env.reset()\n",
        "        done = False\n",
        "        while not done:\n",
        "            # Encode the state using the transformer agent #state_tensor\n",
        "            state_tensor = torch.tensor([state], dtype=torch.float32).to(device)\n",
        "            state_encoding = agent.encoder(state_tensor.unsqueeze(0)).to(torch.float32)# .unsqueeze(0) is a solution from phind - create a tensor with the appropriate shape\n",
        "\n",
        "            # Choose an action using an epsilon-greedy policy\n",
        "            epsilon = 1 / (episode + 1)\n",
        "            if random.random() < epsilon:\n",
        "                action = env.action_space.sample()\n",
        "            else:\n",
        "                q_values = agent.fc2(F.relu(agent.fc1(state_encoding)))\n",
        "                action = torch.argmax(q_values).item()\n",
        "\n",
        "            # Take the action and observe the next state and reward\n",
        "            next_state, reward, done, _ = env.step(action)\n",
        "\n",
        "            # Encode the next state using the transformer agent\n",
        "            next_state_tensor = torch.tensor([next_state], dtype=torch.float32).to(device)\n",
        "            next_state_encoding = agent.encoder(next_state_tensor.unsqueeze(0)).to(torch.float32)\n",
        "\n",
        "            # Update the Q-value for the current state and action\n",
        "            q_values = agent.fc2(F.relu(agent.fc1(state_encoding)))\n",
        "            q_value = q_values[0][action]\n",
        "            next_q_values = agent.fc2(F.relu(agent.fc1(next_state_encoding)))\n",
        "            max_next_q_value = torch.max(next_q_values)\n",
        "            target_q_value = reward + gamma * max_next_q_value\n",
        "            loss = criterion(q_value, target_q_value.detach())\n",
        "            optimizer.zero_grad()\n",
        "            loss.backward()\n",
        "            optimizer.step()\n",
        "\n",
        "            # Update the state\n",
        "            state = next_state\n",
        "\n",
        "    return agent\n",
        "\n",
        "# Train the agent using Q-learning\n",
        "#agent = q_learning(num_episodes=600)\n",
        "state = 0\n",
        "for p in tiles:\n",
        "      print(p)\n",
        "      image = cv2.imread(p)\n",
        "      #image = cv2.imread(p[0])\n",
        "      env = ShowerEnv(image)\n",
        "      #env.image.imagePixels = env.image.LoadPeiceOfArray(env.defaultposition)\n",
        "      env.observation_space =  env.image.GetAllImageState()\n",
        "\n",
        "      state_size = env.observation_space.shape[0]\n",
        "      action_size = env.action_space.n\n",
        "      state = np.reshape(state, [1, state_size])\n",
        "      print(state_size)\n",
        "      agent = q_learning(num_episodes=4,num_states=state_size, num_actions=action_size)\n",
        "\n",
        "\n",
        "      # Evaluate the agent's performance\n",
        "      num_episodes = 5\n",
        "      total_reward = 0\n",
        "      for episode in range(num_episodes):\n",
        "          state = env.reset()\n",
        "          done = False\n",
        "          while not done:\n",
        "              # Encode the state using the transformer agent\n",
        "              state_tensor = torch.tensor([state], dtype=torch.float32).to(device)\n",
        "              state_encoding = agent.encoder(state_tensor.unsqueeze(0)).to(torch.float32)\n",
        "\n",
        "              # Choose the action with the highest Q-value\n",
        "              q_values = agent.fc2(F.relu(agent.fc1(state_encoding)))\n",
        "              action = torch.argmax(q_values).item()\n",
        "\n",
        "              # Take the action and observe the next state and reward\n",
        "              next_state, reward, done, _ = env.step(action)\n",
        "              total_reward += reward\n",
        "\n",
        "              # Update the state\n",
        "              state = next_state\n",
        "      PlottingMap(env, p[p.rindex(\"/\")+1:p.find(\".png\")])\n",
        "      print('Average reward per episode:', total_reward / num_episodes)"
      ],
      "metadata": {
        "id": "7IY7a85LByx8"
      },
      "execution_count": null,
      "outputs": []
    }
  ],
  "metadata": {
    "accelerator": "GPU",
    "colab": {
      "collapsed_sections": [
        "T5LNRlxa3Jg1",
        "rrZk-TZdnnp1",
        "9uesL7MA3JhE",
        "pYsVgkjD3JhP",
        "QjUK8fqJ3JhR",
        "mr9qLOFzMVBj"
      ],
      "provenance": [],
      "include_colab_link": true
    },
    "gpuClass": "standard",
    "kernelspec": {
      "display_name": "Python 3",
      "language": "python",
      "name": "python3"
    },
    "language_info": {
      "codemirror_mode": {
        "name": "ipython",
        "version": 3
      },
      "file_extension": ".py",
      "mimetype": "text/x-python",
      "name": "python",
      "nbconvert_exporter": "python",
      "pygments_lexer": "ipython3",
      "version": "3.7.4"
    }
  },
  "nbformat": 4,
  "nbformat_minor": 0
}